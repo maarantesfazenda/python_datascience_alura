{
  "nbformat": 4,
  "nbformat_minor": 0,
  "metadata": {
    "colab": {
      "provenance": [],
      "toc_visible": true,
      "mount_file_id": "1tiqdPjA8VreYTCq3JSn02PcIvSOwGK9b",
      "authorship_tag": "ABX9TyOQimKJmWtjsgwh23ufygcf",
      "include_colab_link": true
    },
    "kernelspec": {
      "name": "python3",
      "display_name": "Python 3"
    },
    "language_info": {
      "name": "python"
    }
  },
  "cells": [
    {
      "cell_type": "markdown",
      "metadata": {
        "id": "view-in-github",
        "colab_type": "text"
      },
      "source": [
        "<a href=\"https://colab.research.google.com/github/maarantesfazenda/python_datascience_alura/blob/main/Notebooks/Aula_Alura.ipynb\" target=\"_parent\"><img src=\"https://colab.research.google.com/assets/colab-badge.svg\" alt=\"Open In Colab\"/></a>"
      ]
    },
    {
      "cell_type": "code",
      "execution_count": null,
      "metadata": {
        "colab": {
          "base_uri": "https://localhost:8080/"
        },
        "id": "gwnts4Ts8Bgm",
        "outputId": "e5843de8-7079-450c-b73b-a0d537eb716e"
      },
      "outputs": [
        {
          "output_type": "stream",
          "name": "stdout",
          "text": [
            "10\n"
          ]
        }
      ],
      "source": [
        "# Esse é o comentário de uma linha\n",
        "print(10) #Podemos colocar outro comentário em uma linha após um código"
      ]
    },
    {
      "cell_type": "code",
      "source": [],
      "metadata": {
        "id": "Kod14UITnDce"
      },
      "execution_count": null,
      "outputs": []
    },
    {
      "cell_type": "code",
      "source": [
        "'''\n",
        "Este é um comentário de várias linhas\n",
        "'''\n",
        "print(10)"
      ],
      "metadata": {
        "colab": {
          "base_uri": "https://localhost:8080/"
        },
        "id": "C_3dey7G8v8U",
        "outputId": "a86a6120-c3cc-4f44-f0a4-72b6cce72cdf"
      },
      "execution_count": null,
      "outputs": [
        {
          "output_type": "stream",
          "name": "stdout",
          "text": [
            "10\n"
          ]
        }
      ]
    },
    {
      "cell_type": "markdown",
      "source": [
        "# Uso de atributos para texto de comentário no Notepad\n",
        "# Cabeçalho de nível 1\n",
        "**Texto em negrito**\n",
        "## Cabeçalho de nível 2\n",
        "*Texto em itálico*\n",
        "### Cabeçalho de nível 3\n",
        "***Texto em negrito e itálico***\n",
        "* Item 1\n",
        "* Item 2\n",
        "* Nada a ver\n",
        "1. Item 1\n",
        "2. Item 2\n",
        "3. Nada a ver\n",
        "\n",
        "[Site da Alura](https://www.alura.com.br/)"
      ],
      "metadata": {
        "id": "1MeQ9u7y9hog"
      }
    },
    {
      "cell_type": "markdown",
      "source": [],
      "metadata": {
        "id": "t8139Sx_YZni"
      }
    },
    {
      "cell_type": "code",
      "source": [],
      "metadata": {
        "id": "4tsQbcVOYehs"
      },
      "execution_count": null,
      "outputs": []
    },
    {
      "cell_type": "markdown",
      "source": [
        "# Variáveis, Input e Print"
      ],
      "metadata": {
        "id": "vaFfhXwjYOiu"
      }
    },
    {
      "cell_type": "code",
      "source": [],
      "metadata": {
        "id": "0TEydsMmnb9F"
      },
      "execution_count": null,
      "outputs": []
    },
    {
      "cell_type": "code",
      "source": [
        "idade = 5"
      ],
      "metadata": {
        "id": "D6mA_qC5-3X_"
      },
      "execution_count": null,
      "outputs": []
    },
    {
      "cell_type": "code",
      "source": [
        "idade = 10\n",
        "print (idade)"
      ],
      "metadata": {
        "colab": {
          "base_uri": "https://localhost:8080/"
        },
        "id": "NnH7UCDr_DQ_",
        "outputId": "e8be1f7f-1b90-4a87-956d-3a0d04ab34e2"
      },
      "execution_count": null,
      "outputs": [
        {
          "output_type": "stream",
          "name": "stdout",
          "text": [
            "10\n"
          ]
        }
      ]
    },
    {
      "cell_type": "code",
      "source": [
        "data_compra = '10/07/2004'\n",
        "type(data_compra)"
      ],
      "metadata": {
        "colab": {
          "base_uri": "https://localhost:8080/"
        },
        "id": "rY-RNXwD_Fqk",
        "outputId": "2d4c3cf0-e041-4a4a-bc99-ad825134be39"
      },
      "execution_count": null,
      "outputs": [
        {
          "output_type": "execute_result",
          "data": {
            "text/plain": [
              "str"
            ]
          },
          "metadata": {},
          "execution_count": 9
        }
      ]
    },
    {
      "cell_type": "code",
      "source": [
        "nome = input('Escreva seu nome: ')\n",
        "print('Bom dia ',nome)"
      ],
      "metadata": {
        "id": "ByMvXa37C8ij",
        "colab": {
          "base_uri": "https://localhost:8080/"
        },
        "outputId": "fcd4e4f4-4855-4971-f370-0f8bc13f8cf5"
      },
      "execution_count": null,
      "outputs": [
        {
          "output_type": "stream",
          "name": "stdout",
          "text": [
            "Escreva seu nome: Maurício Arantes de Andrade\n",
            "Bom dia  Maurício Arantes de Andrade\n"
          ]
        }
      ]
    },
    {
      "cell_type": "code",
      "source": [
        "nome\n"
      ],
      "metadata": {
        "colab": {
          "base_uri": "https://localhost:8080/",
          "height": 35
        },
        "id": "A4M4Y9N5AsM1",
        "outputId": "48be8de2-d269-4f89-a607-c7f30bb650f2"
      },
      "execution_count": null,
      "outputs": [
        {
          "output_type": "execute_result",
          "data": {
            "text/plain": [
              "'Maurício Arantes de Andrade'"
            ],
            "application/vnd.google.colaboratory.intrinsic+json": {
              "type": "string"
            }
          },
          "metadata": {},
          "execution_count": 4
        }
      ]
    },
    {
      "cell_type": "code",
      "source": [
        "ano_entrada = int(input('Escreva o ano de ingresso do(a) estudante: '))"
      ],
      "metadata": {
        "colab": {
          "base_uri": "https://localhost:8080/"
        },
        "id": "-KcvnyjTBZpC",
        "outputId": "5976d173-99b2-4945-995f-4863c71463ae"
      },
      "execution_count": null,
      "outputs": [
        {
          "name": "stdout",
          "output_type": "stream",
          "text": [
            "Escreva o ano de ingresso do(a) estudante: 2021\n"
          ]
        }
      ]
    },
    {
      "cell_type": "code",
      "source": [
        "type(ano_entrada)"
      ],
      "metadata": {
        "colab": {
          "base_uri": "https://localhost:8080/"
        },
        "id": "nWKgFSY2CJGk",
        "outputId": "206713df-37e4-49a7-c353-369775339d41"
      },
      "execution_count": null,
      "outputs": [
        {
          "output_type": "execute_result",
          "data": {
            "text/plain": [
              "int"
            ]
          },
          "metadata": {},
          "execution_count": 9
        }
      ]
    },
    {
      "cell_type": "code",
      "source": [
        "nota_entrada = float(input('Digite a nota do teste de ingresso:' ))\n",
        "print(f'Ano de entrada {ano_entrada} - nota do teste de ingresso [nota_entrada]')"
      ],
      "metadata": {
        "colab": {
          "base_uri": "https://localhost:8080/"
        },
        "id": "N0Q6btU4CRXi",
        "outputId": "8b665ab4-58ee-420e-d91a-ea97d351e231"
      },
      "execution_count": null,
      "outputs": [
        {
          "output_type": "stream",
          "name": "stdout",
          "text": [
            "Digite a nota do teste de ingresso:8.5\n",
            "Ano de entrada 2021 - nota do teste de ingresso [nota_entrada]\n"
          ]
        }
      ]
    },
    {
      "cell_type": "code",
      "source": [
        "nome_aluno = 'Fabricio Daniel'\n",
        "idade_aluno = 15\n",
        "media_aluno = 8.45\n",
        "\n",
        "print('Nome \\t do \\t aluno é {}.\\nEle tem {} anos.\\nSua média é {}.' .format(nome_aluno, idade_aluno, media_aluno))"
      ],
      "metadata": {
        "colab": {
          "base_uri": "https://localhost:8080/"
        },
        "id": "ZV9oUWJ2Civ5",
        "outputId": "5728c30a-cdf4-4233-88d2-7268b33f37d2"
      },
      "execution_count": null,
      "outputs": [
        {
          "output_type": "stream",
          "name": "stdout",
          "text": [
            "Nome \t do \t aluno é Fabricio Daniel.\n",
            "Ele tem 15 anos.\n",
            "Sua média é 8.45.\n"
          ]
        }
      ]
    },
    {
      "cell_type": "code",
      "source": [
        "nome_aluno = input('Digite o nome do aluno: ')\n",
        "print('Olá {}, seja bem-vindo!' .format(nome_aluno))"
      ],
      "metadata": {
        "colab": {
          "base_uri": "https://localhost:8080/"
        },
        "id": "e649Ia6pIF8j",
        "outputId": "46bf3307-2f07-45d9-b2cf-8711880d1c5e"
      },
      "execution_count": null,
      "outputs": [
        {
          "output_type": "stream",
          "name": "stdout",
          "text": [
            "Digite o nome do aluno: Maurício\n",
            "Olá Maurício, seja bem-vindo!\n"
          ]
        }
      ]
    },
    {
      "cell_type": "code",
      "source": [
        "idade = input('Digite sua idade: ')\n",
        "print('Olá {}, sua idade é {} anos.' .format(nome_aluno, idade))"
      ],
      "metadata": {
        "colab": {
          "base_uri": "https://localhost:8080/"
        },
        "id": "mm12v-OJKM6n",
        "outputId": "fcd72a16-9abd-4560-f34a-5c9e181939f4"
      },
      "execution_count": null,
      "outputs": [
        {
          "output_type": "stream",
          "name": "stdout",
          "text": [
            "Digite sua idade: 57\n",
            "Olá Maurício, sua idade é 57 anos.\n"
          ]
        }
      ]
    },
    {
      "cell_type": "code",
      "source": [
        "nome = input('Digite seu nome: ')\n",
        "idade = int(input('Digite sua idade: '))\n",
        "altura = float(input('Digite sua altura em metros: '))\n",
        "print('Olá {}, você tem {} anos e mede {} metros' .format(nome, idade, altura))\n",
        "\n"
      ],
      "metadata": {
        "colab": {
          "base_uri": "https://localhost:8080/"
        },
        "id": "ay8bqtkuLsQ0",
        "outputId": "48b92cd3-48d5-4976-c067-96872bddb77c"
      },
      "execution_count": null,
      "outputs": [
        {
          "output_type": "stream",
          "name": "stdout",
          "text": [
            "Digite seu nome: Maurício\n",
            "Digite sua idade: 57\n",
            "Digite sua altura em metros: 1.93\n",
            "Olá Maurício, você tem 57 anos e mede 1.93 metros\n"
          ]
        }
      ]
    },
    {
      "cell_type": "code",
      "source": [
        "valor1 = int(input('Digite o primeiro valor: '))\n",
        "valor2 = int(input('Digite o segundo valor: '))\n",
        "soma = valor1 + valor2\n",
        "print('A soma dos valores é {}' .format(soma))"
      ],
      "metadata": {
        "colab": {
          "base_uri": "https://localhost:8080/"
        },
        "id": "vveos8wqMneb",
        "outputId": "ba3297fe-089c-4a33-f5c8-6ad94f135ce2"
      },
      "execution_count": null,
      "outputs": [
        {
          "output_type": "stream",
          "name": "stdout",
          "text": [
            "Digite o primeiro valor: 10\n",
            "Digite o segundo valor: 20\n",
            "A soma dos valores é 30\n"
          ]
        }
      ]
    },
    {
      "cell_type": "code",
      "source": [
        "valor1 = int(input('Digite o primeiro valor: '))\n",
        "valor2 = int(input('Digite o segundo valor: '))\n",
        "valor3 = int(input('Digite o terceiro valor: '))\n",
        "soma = valor1 + valor2 + valor3\n",
        "print(f'A soma dos valores é {soma}')\n",
        "#"
      ],
      "metadata": {
        "colab": {
          "base_uri": "https://localhost:8080/"
        },
        "id": "RS5ndt4HNPAy",
        "outputId": "32e34b30-a226-433b-a2f3-509f95146779"
      },
      "execution_count": null,
      "outputs": [
        {
          "output_type": "stream",
          "name": "stdout",
          "text": [
            "Digite o primeiro valor: 10\n",
            "Digite o segundo valor: 20\n",
            "Digite o terceiro valor: 30\n",
            "A soma dos valores é 60\n"
          ]
        }
      ]
    },
    {
      "cell_type": "code",
      "source": [
        "valor1 = int(input('Digite o primeiro valor: '))\n",
        "valor2 = int(input('Digite o segundo valor: '))\n",
        "subtracao = valor1 - valor2\n",
        "print(f'A subtração dos valores é {subtracao}')\n",
        "#"
      ],
      "metadata": {
        "colab": {
          "base_uri": "https://localhost:8080/"
        },
        "id": "4lOSFmuCNa7s",
        "outputId": "82eb6381-260e-4013-986b-8b0bb53c0255"
      },
      "execution_count": null,
      "outputs": [
        {
          "output_type": "stream",
          "name": "stdout",
          "text": [
            "Digite o primeiro valor: 10\n",
            "Digite o segundo valor: 20\n",
            "A subtração dos valores é -10\n"
          ]
        }
      ]
    },
    {
      "cell_type": "code",
      "source": [
        "valor1 = int(input('Digite o primeiro valor: '))\n",
        "valor2 = int(input('Digite o segundo valor: '))\n",
        "multiplicacao = valor1 * valor2\n",
        "print(f'A multiplicação dos valores é {multiplicacao}')\n",
        "#"
      ],
      "metadata": {
        "colab": {
          "base_uri": "https://localhost:8080/"
        },
        "id": "25Nf_WQBNu43",
        "outputId": "066779dd-2537-431a-fd38-b395a1f2723f"
      },
      "execution_count": null,
      "outputs": [
        {
          "output_type": "stream",
          "name": "stdout",
          "text": [
            "Digite o primeiro valor: 10\n",
            "Digite o segundo valor: 20\n",
            "A multiplicação dos valores é 200\n"
          ]
        }
      ]
    },
    {
      "cell_type": "code",
      "source": [
        "valor1 = int(input('Digite o primeiro valor: '))\n",
        "valor2 = int(input('Digite o segundo valor diferente de zero: '))\n",
        "divisao = valor1 % valor2\n",
        "print(f'O resto dos valores é {divisao}')\n",
        "#"
      ],
      "metadata": {
        "colab": {
          "base_uri": "https://localhost:8080/"
        },
        "id": "8QzmNGYZN5pJ",
        "outputId": "f330cc78-a749-47d5-9379-2be286f14eca"
      },
      "execution_count": null,
      "outputs": [
        {
          "output_type": "stream",
          "name": "stdout",
          "text": [
            "Digite o primeiro valor: 5\n",
            "Digite o segundo valor diferente de zero: 2\n",
            "O resto dos valores é 1\n"
          ]
        }
      ]
    },
    {
      "cell_type": "code",
      "source": [
        "# prompt: Crie um código que calcule e imprima a média ponderada dos números 5, 12, 20 e 15 com pesos respectivamente iguais a 1, 2, 3 e 4\n",
        "\n",
        "numeros = [5, 12, 20, 15]\n",
        "pesos = [1, 2, 3, 4]\n",
        "\n",
        "# Calcula a média ponderada\n",
        "soma_ponderada = sum(numero * peso for numero, peso in zip(numeros, pesos))\n",
        "soma_pesos = sum(pesos)\n",
        "media_ponderada = soma_ponderada / soma_pesos\n",
        "\n",
        "# Imprime a média ponderada\n",
        "print(f\"A média ponderada é: {media_ponderada}\")"
      ],
      "metadata": {
        "colab": {
          "base_uri": "https://localhost:8080/"
        },
        "id": "DeGpjKGDO7MZ",
        "outputId": "29d9c602-3dcc-4477-e044-bdce8d28c6fa"
      },
      "execution_count": null,
      "outputs": [
        {
          "output_type": "stream",
          "name": "stdout",
          "text": [
            "A média ponderada é: 14.9\n"
          ]
        }
      ]
    },
    {
      "cell_type": "code",
      "source": [],
      "metadata": {
        "id": "ATCfOEpnPSnw"
      },
      "execution_count": null,
      "outputs": []
    },
    {
      "cell_type": "code",
      "source": [
        "valor1 = int(input('Digite o primeiro valor: '))\n",
        "valor2 = int(input('Digite o segundo valor: '))\n",
        "exponenciacao = valor1 ** valor2\n",
        "print(f'A exponenciação dos valores é {exponenciacao}')\n",
        "#"
      ],
      "metadata": {
        "colab": {
          "base_uri": "https://localhost:8080/"
        },
        "id": "gMaA-MXWOJkm",
        "outputId": "9115408c-1955-4035-90f8-4890cfd22549"
      },
      "execution_count": null,
      "outputs": [
        {
          "output_type": "stream",
          "name": "stdout",
          "text": [
            "Digite o primeiro valor: 10\n",
            "Digite o segundo valor: 20\n",
            "A exponenciação dos valores é 100000000000000000000\n"
          ]
        }
      ]
    },
    {
      "cell_type": "code",
      "source": [
        "frase = input('Digite uma frase inspiradora... ')\n",
        "print(frase.replace('s','$'))\n"
      ],
      "metadata": {
        "colab": {
          "base_uri": "https://localhost:8080/"
        },
        "id": "9yhOe3H8PT7w",
        "outputId": "92f68019-6580-4140-b4a7-4540d8bb0109"
      },
      "execution_count": null,
      "outputs": [
        {
          "output_type": "stream",
          "name": "stdout",
          "text": [
            "Digite uma frase inspiradora... 'A inteligência de um homem está diretamente relacionada à incerteza que ele é capaz de suportar'\n",
            "'A inteligência de um homem e$tá diretamente relacionada à incerteza que ele é capaz de $uportar'\n"
          ]
        }
      ]
    },
    {
      "cell_type": "markdown",
      "source": [],
      "metadata": {
        "id": "ZByw-a0mYGTo"
      }
    },
    {
      "cell_type": "markdown",
      "source": [
        "# Estruturas Condicionais"
      ],
      "metadata": {
        "id": "XfOHXcPgYnBX"
      }
    },
    {
      "cell_type": "code",
      "source": [
        "if 2>7:\n",
        "    print('condição verdadeira')\n",
        "else:\n",
        "    print('condição falsa')\n"
      ],
      "metadata": {
        "colab": {
          "base_uri": "https://localhost:8080/"
        },
        "id": "_T6ot9JMVTX-",
        "outputId": "0ad654ae-4954-4a7a-9a8b-f3c7107e8b20"
      },
      "execution_count": null,
      "outputs": [
        {
          "output_type": "stream",
          "name": "stdout",
          "text": [
            "condição falsa\n"
          ]
        }
      ]
    },
    {
      "cell_type": "code",
      "source": [
        "media = float(input('Digite a média do aluno: '))\n",
        "if media >= 6:\n",
        "    print('Aprovado')\n",
        "if 6.0 > media >= 4.0:\n",
        "    print('Recuperação')\n",
        "if media < 4.0:\n",
        "    print('Reprovado')"
      ],
      "metadata": {
        "colab": {
          "base_uri": "https://localhost:8080/"
        },
        "id": "YbIfOPGmZ3GN",
        "outputId": "0de664e2-f8b4-4f2f-f530-bfb2e29992e5"
      },
      "execution_count": null,
      "outputs": [
        {
          "output_type": "stream",
          "name": "stdout",
          "text": [
            "Digite a média do aluno: 3\n",
            "Reprovado\n"
          ]
        }
      ]
    },
    {
      "cell_type": "code",
      "source": [
        "lista = 'Maurício, Ricardo, Jandira, Carla, Pietro, Júlia, Laís'\n",
        "nome = input('Digite o nome de alguém da família: ')\n",
        "if nome in lista:\n",
        "    print('{} é da família' .format(nome))\n",
        "else:\n",
        "    print('{} NÃO é da família' .format(nome))"
      ],
      "metadata": {
        "colab": {
          "base_uri": "https://localhost:8080/"
        },
        "id": "ePq_Gr9pcvE4",
        "outputId": "9590ab8e-8967-459d-d4c1-b4a880eb1051"
      },
      "execution_count": null,
      "outputs": [
        {
          "output_type": "stream",
          "name": "stdout",
          "text": [
            "Digite o nome de alguém da família: Laís\n",
            "Laís é da família\n"
          ]
        }
      ]
    },
    {
      "cell_type": "code",
      "source": [
        "valor1 = int(input('Digite o primeiro valor: '))\n",
        "valor2 = int(input('Digite o segundo valor: '))\n",
        "if valor1 > valor2:\n",
        "    print('O primeiro valor é maior')"
      ],
      "metadata": {
        "colab": {
          "base_uri": "https://localhost:8080/"
        },
        "id": "v1ajAguVf7fJ",
        "outputId": "2c4e8dce-ada4-466e-bc59-07b645579946"
      },
      "execution_count": null,
      "outputs": [
        {
          "output_type": "stream",
          "name": "stdout",
          "text": [
            "Digite o primeiro valor: 10\n",
            "Digite o segundo valor: 1\n",
            "O primeiro valor é maior\n"
          ]
        }
      ]
    },
    {
      "cell_type": "code",
      "source": [
        "percentual = float(input('Digite o percentual de crescimento: '))\n",
        "if percentual > 0:\n",
        "    print('Houve crescimento')\n",
        "else:\n",
        "    print('Houve decrescimento')"
      ],
      "metadata": {
        "colab": {
          "base_uri": "https://localhost:8080/"
        },
        "id": "a8RCCb-qAGyA",
        "outputId": "87a2a6e2-76fa-48af-b74b-f4770077537e"
      },
      "execution_count": null,
      "outputs": [
        {
          "output_type": "stream",
          "name": "stdout",
          "text": [
            "Digite o percentual de crescimento: 0\n",
            "Houve decrescimento\n"
          ]
        }
      ]
    },
    {
      "cell_type": "code",
      "source": [
        "letra = input('Digite uma letra: ')\n",
        "if letra in 'aeiouAEIOU':\n",
        "    print('{} É uma vogal' .format(letra))\n",
        "else:\n",
        "    print('{} É uma consoante' .format(letra))\n"
      ],
      "metadata": {
        "colab": {
          "base_uri": "https://localhost:8080/"
        },
        "id": "uMMNfS2JA46F",
        "outputId": "e06b14fd-8f63-49e1-9a77-fa9ab2d8adf1"
      },
      "execution_count": null,
      "outputs": [
        {
          "output_type": "stream",
          "name": "stdout",
          "text": [
            "Digite uma letra: Z\n",
            "Z É uma consoante\n"
          ]
        }
      ]
    },
    {
      "cell_type": "code",
      "source": [
        "vlr_carro1 = float(input('Digite o valor do carro no ano 1: '))\n",
        "vlr_carro2 = float(input('Digite o valor do carro no ano 2: '))\n",
        "vlr_carro3 = float(input('Digite o valor do carro no ano3: '))\n",
        "#mais caro\n",
        "if vlr_carro1 > vlr_carro2 and vlr_carro1 > vlr_carro3:\n",
        "    print('O carro do ano 1 é o mais caro')\n",
        "elif vlr_carro2 > vlr_carro1 and vlr_carro2 > vlr_carro3:\n",
        "    print('O carro do ano 2 é o mais caro')\n",
        "else:\n",
        "    print('O carro do ano 3 é o mais caro')\n",
        "#mais barato\n",
        "if vlr_carro1 < vlr_carro2 and vlr_carro1 < vlr_carro3:\n",
        "    print('O carro do ano 1 é o mais barato')\n",
        "elif vlr_carro2 < vlr_carro1 and vlr_carro2 < vlr_carro3:\n",
        "    print('O carro do ano 2 é o mais barato')\n",
        "else:\n",
        "    print('O carro do ano 3 é o mais barato')"
      ],
      "metadata": {
        "colab": {
          "base_uri": "https://localhost:8080/"
        },
        "id": "lckUHRLnB3CK",
        "outputId": "b425550a-0711-4162-8765-e752eafd7212"
      },
      "execution_count": null,
      "outputs": [
        {
          "output_type": "stream",
          "name": "stdout",
          "text": [
            "Digite o valor do carro no ano 1: 2\n",
            "Digite o valor do carro no ano 2: 2\n",
            "Digite o valor do carro no ano3: 2\n",
            "O carro do ano 3 é o mais caro\n",
            "O carro do ano 3 é o mais barato\n"
          ]
        }
      ]
    },
    {
      "cell_type": "code",
      "source": [
        "vlr_produto1 = float(input('Digite o valor do produto 1: '))\n",
        "vlr_produto2 = float(input('Digite o valor do produto 2: '))\n",
        "vlr_produto3 = float(input('Digite o valor do produto 3: '))\n",
        "#mais barato\n",
        "if vlr_produto1 < vlr_produto2 and vlr_produto1 < vlr_produto3:\n",
        "    print('O produto 1 é o mais barato')\n",
        "elif vlr_produto2 < vlr_produto1 and vlr_produto2 < vlr_produto3:\n",
        "    print('O produto 2 é o mais barato')\n",
        "else:\n",
        "    print('O produto 3 é o mais barato')"
      ],
      "metadata": {
        "colab": {
          "base_uri": "https://localhost:8080/"
        },
        "id": "-94baB8qEzuf",
        "outputId": "408f5132-6b51-443f-ea2b-de0678603bdb"
      },
      "execution_count": null,
      "outputs": [
        {
          "output_type": "stream",
          "name": "stdout",
          "text": [
            "Digite o valor do produto 1: 10\n",
            "Digite o valor do produto 2: 5\n",
            "Digite o valor do produto 3: 25\n",
            "O produto 2 é o mais barato\n"
          ]
        }
      ]
    },
    {
      "cell_type": "code",
      "source": [
        "# prompt: Escreva um programa que leia três números e os exiba em ordem decrescente\n",
        "\n",
        "num1 = float(input(\"Digite o primeiro número: \"))\n",
        "num2 = float(input(\"Digite o segundo número: \"))\n",
        "num3 = float(input(\"Digite o terceiro número: \"))\n",
        "\n",
        "numeros = [num1, num2, num3]\n",
        "numeros.sort(reverse=True)\n",
        "\n",
        "print(\"Números em ordem decrescente:\", numeros)"
      ],
      "metadata": {
        "colab": {
          "base_uri": "https://localhost:8080/"
        },
        "id": "fzN4L4POHHrh",
        "outputId": "f1745aa6-3d63-4a23-bb36-be71c4d531f0"
      },
      "execution_count": null,
      "outputs": [
        {
          "output_type": "stream",
          "name": "stdout",
          "text": [
            "Digite o primeiro número: 13\n",
            "Digite o segundo número: 5\n",
            "Digite o terceiro número: 25\n",
            "Números em ordem decrescente: [25.0, 13.0, 5.0]\n"
          ]
        }
      ]
    },
    {
      "cell_type": "code",
      "source": [
        "turno = input('Em turno você estuda? ')\n",
        "if turno.upper() == 'MANHÃ':\n",
        "    print('Bom dia!')\n",
        "elif turno.upper() == 'TARDE':\n",
        "    print('Boa tarde!')\n",
        "elif turno.upper() == 'NOITE':\n",
        "    print('Boa noite!')\n",
        "else:\n",
        "    print('Valor inválido')\n"
      ],
      "metadata": {
        "colab": {
          "base_uri": "https://localhost:8080/"
        },
        "id": "zPTDWyP4HbAd",
        "outputId": "be73bf04-df44-47d1-8457-662af9b9d34d"
      },
      "execution_count": null,
      "outputs": [
        {
          "output_type": "stream",
          "name": "stdout",
          "text": [
            "Em turno você estuda? Vá se foder!\n",
            "Valor inválido\n"
          ]
        }
      ]
    },
    {
      "cell_type": "code",
      "source": [
        "num = int(input('Digite um número: '))\n",
        "if num % 2 == 0:\n",
        "    print('O número é par')\n",
        "else:\n",
        "    print('O número é ímpar')"
      ],
      "metadata": {
        "colab": {
          "base_uri": "https://localhost:8080/"
        },
        "id": "l_cRgMwTIOny",
        "outputId": "0ab8323d-7959-4982-935a-4b1e77b66e0f"
      },
      "execution_count": null,
      "outputs": [
        {
          "output_type": "stream",
          "name": "stdout",
          "text": [
            "Digite um número: 10\n",
            "O número é par\n"
          ]
        }
      ]
    },
    {
      "cell_type": "code",
      "source": [
        "num = float(input('Digite um número: '))\n",
        "if num - int(num) == 0:\n",
        "    print('{} é um número é inteiro' .format(num))\n",
        "else:\n",
        "    print('{} é um número decimal' .format(num))\n",
        "\n"
      ],
      "metadata": {
        "colab": {
          "base_uri": "https://localhost:8080/"
        },
        "id": "yEWKfckOIln3",
        "outputId": "124635c9-6a5e-4b87-97a7-00e223e0461c"
      },
      "execution_count": null,
      "outputs": [
        {
          "output_type": "stream",
          "name": "stdout",
          "text": [
            "Digite um número: 15.35\n",
            "15.35 é um número decimal\n"
          ]
        }
      ]
    },
    {
      "cell_type": "code",
      "source": [
        "num1 = float(input('Digite o primeiro número: '))\n",
        "num2 = float(input('Digite o segundo número: '))\n",
        "operacao = input('Digite a operação (+, -, *, /): ')\n",
        "if operacao == '+':\n",
        "    resultado = num1 + num2\n",
        "elif operacao == '-':\n",
        "    resultado = num1 - num2\n",
        "elif operacao == '*':\n",
        "    resultado = num1 * num2\n",
        "elif operacao == '/':\n",
        "    resultado = num1 / num2\n",
        "else:\n",
        "    print('Operação inválida')\n",
        "print(f'O resultado é {resultado}')\n",
        "if resultado % 2 == 0:\n",
        "    print('O resultado é par')\n",
        "else:\n",
        "    print('O resultado é ímpar')\n",
        "if int(resultado) == resultado:\n",
        "    print('O resultado é inteiro')\n",
        "else:\n",
        "    print('O resultado é decimal')\n"
      ],
      "metadata": {
        "colab": {
          "base_uri": "https://localhost:8080/"
        },
        "id": "vAUT_j-5nHNT",
        "outputId": "5cce1012-f44a-4244-a11b-a426ddfe71aa"
      },
      "execution_count": null,
      "outputs": [
        {
          "output_type": "stream",
          "name": "stdout",
          "text": [
            "Digite o primeiro número: 5\n",
            "Digite o segundo número: 3.7\n",
            "Digite a operação (+, -, *, /): /\n",
            "O resultado é 1.3513513513513513\n",
            "O resultado é ímpar\n",
            "O resultado é decimal\n"
          ]
        }
      ]
    },
    {
      "cell_type": "code",
      "source": [
        "num1 = float(input('Digite o primeiro número: '))\n",
        "num2 = float(input('Digite o segundo número: '))\n",
        "num3 = float(input('Digite o terceiro número: '))\n",
        "if (num1 + num2) > num3:\n",
        "  print ('É possível formar um triângulo')\n",
        "elif (num2 + num3) > num1:\n",
        "  print ('É possível formar um triângulo')\n",
        "elif (num1 + num3) > num2:\n",
        "  print ('É possível formar um triângulo')\n",
        "else:\n",
        "  print ('Não é possível formar um triângulo')\n",
        "\n",
        "if num1 == num2 == num3:\n",
        "   print('O triângulo é equilátero')\n",
        "elif num1 != num2 != num3:\n",
        "    print('O triângulo é escaleno')\n",
        "else:\n",
        "    print('O triângulo é isósceles')"
      ],
      "metadata": {
        "colab": {
          "base_uri": "https://localhost:8080/"
        },
        "id": "uvLz9AGeoiwn",
        "outputId": "1ece4cb3-3920-44b2-8dd7-f1161d9d3ca0"
      },
      "execution_count": null,
      "outputs": [
        {
          "output_type": "stream",
          "name": "stdout",
          "text": [
            "Digite o primeiro número: 10\n",
            "Digite o segundo número: 10\n",
            "Digite o terceiro número: 10\n",
            "É possível formar um triângulo\n",
            "O triângulo é equilátero\n"
          ]
        }
      ]
    },
    {
      "cell_type": "code",
      "source": [
        "combustivel = input(\"Digite D para diesel, G para gasolina ou E para etanol: \")\n",
        "litros = float(input(\"Digite a quantidade de litros vendidos: \"))\n",
        "if combustivel.upper() == \"D\":\n",
        "    preco_diesel = 2.0\n",
        "    preco_total = litros * preco_diesel\n",
        "    if litros <= 15:\n",
        "        preco_total -= preco_total * 0.03\n",
        "    else:\n",
        "        preco_total -= preco_total * 0.05\n",
        "elif combustivel.upper() == \"G\":\n",
        "    preco_gasolina = 5.9\n",
        "    preco_total = litros * preco_gasolina\n",
        "elif combustivel.upper() == \"E\":\n",
        "    preco_etanol = 1.7\n",
        "    preco_total = litros * preco_etanol\n",
        "    if litros <= 15:\n",
        "        preco_total -= preco_total * 0.02\n",
        "    else:\n",
        "        preco_total -= preco_total * 0.04\n",
        "\n",
        "if combustivel.upper() in [\"D\",\"G\",\"E\"]:\n",
        "  print(f\"O preço total a pagar é R$ {preco_total:.2f}\")\n",
        "else:\n",
        "  print(\"Combustível inválido\")\n",
        "\n"
      ],
      "metadata": {
        "id": "3b2FgUCi4MEW",
        "colab": {
          "base_uri": "https://localhost:8080/"
        },
        "outputId": "f9cd6223-b496-42b4-c380-42217da5fa5a"
      },
      "execution_count": null,
      "outputs": [
        {
          "output_type": "stream",
          "name": "stdout",
          "text": [
            "Digite D para diesel, G para gasolina ou E para etanol: e\n",
            "Digite a quantidade de litros vendidos: 100\n",
            "O preço total a pagar é R$ 163.20\n"
          ]
        }
      ]
    },
    {
      "cell_type": "code",
      "source": [
        "vendas_2022 = int(input('Digite a quantidade de vendas do ano de 2022: '))\n",
        "vendas_2023 = int(input('Digite a quantidade de vendas do ano de 20213 '))\n",
        "variacao_vendas = float((vendas_2023 / vendas_2022) -1)\n",
        "if variacao_vendas > 0.2:\n",
        "    print('Aumento de {}%. Recomendamos bonificação para o time!!!'.format(variacao_vendas * 100))\n",
        "elif 0.02 < variacao_vendas < 0.2:\n",
        "    print('Aumento de {}%. Recomendamos pequena bonificação para o time'.format(variacao_vendas * 100))\n",
        "elif -0.1 < variacao_vendas < 0.02:\n",
        "    print('Variação de {}%. Recomendamos planejamento de políticias de incentivo a vendas'.format(variacao_vendas * 100))\n",
        "else:\n",
        "    print('Redução de {}%. Recomendamos corte de gastos.'.format(variacao_vendas * 100))\n",
        "\n",
        "\n"
      ],
      "metadata": {
        "colab": {
          "base_uri": "https://localhost:8080/"
        },
        "id": "EQApjmN-ZH-Y",
        "outputId": "984c08cd-909c-437c-c7ab-60db07d12b5f"
      },
      "execution_count": null,
      "outputs": [
        {
          "output_type": "stream",
          "name": "stdout",
          "text": [
            "Digite a quantidade de vendas do ano de 2022: 100\n",
            "Digite a quantidade de vendas do ano de 20213 80\n",
            "Redução de -19.999999999999996%. Recomendamos corte de gastos.\n"
          ]
        }
      ]
    },
    {
      "cell_type": "markdown",
      "source": [
        "# Estruturas de Repetição\n"
      ],
      "metadata": {
        "id": "Q5pJybWShAQ5"
      }
    },
    {
      "cell_type": "markdown",
      "source": [
        "## while\n"
      ],
      "metadata": {
        "id": "lUfoyzRHfZTl"
      }
    },
    {
      "cell_type": "code",
      "source": [
        "contador = 1\n",
        "while contador <= 10:\n",
        "    print(contador)\n",
        "    contador += 1"
      ],
      "metadata": {
        "colab": {
          "base_uri": "https://localhost:8080/"
        },
        "id": "AK-MX3MkZGuB",
        "outputId": "fcf04cb4-771a-4c38-aada-ebf9de038973"
      },
      "execution_count": null,
      "outputs": [
        {
          "output_type": "stream",
          "name": "stdout",
          "text": [
            "1\n",
            "2\n",
            "3\n",
            "4\n",
            "5\n",
            "6\n",
            "7\n",
            "8\n",
            "9\n",
            "10\n"
          ]
        }
      ]
    },
    {
      "cell_type": "code",
      "source": [
        "contador = 1\n",
        "while contador <= 3:\n",
        "  nota_1 = float(input('Digite a nota 1: '))\n",
        "  nota_2 = float(input('Digite a nota 2: '))\n",
        "  media = (nota_1 + nota_2) / 2\n",
        "  print(f'A média é {media}')\n",
        "  contador += 1"
      ],
      "metadata": {
        "colab": {
          "base_uri": "https://localhost:8080/"
        },
        "id": "A2RRKzqBfS2V",
        "outputId": "adc8304b-9320-40ae-d7b0-2b780607da71"
      },
      "execution_count": null,
      "outputs": [
        {
          "output_type": "stream",
          "name": "stdout",
          "text": [
            "Digite a nota 1: 5\n",
            "Digite a nota 2: 7\n",
            "A média é 6.0\n",
            "Digite a nota 1: 10\n",
            "Digite a nota 2: 10\n",
            "A média é 10.0\n",
            "Digite a nota 1: 3\n",
            "Digite a nota 2: 2.7\n",
            "A média é 2.85\n"
          ]
        }
      ]
    },
    {
      "cell_type": "markdown",
      "source": [
        "##for"
      ],
      "metadata": {
        "id": "K5qNCK6BflZ9"
      }
    },
    {
      "cell_type": "code",
      "source": [
        "for contador in range(1,11):\n",
        "  print(contador)"
      ],
      "metadata": {
        "id": "BrlOsYOTgSOK",
        "colab": {
          "base_uri": "https://localhost:8080/"
        },
        "outputId": "14f71196-0e2e-4a1f-c474-c07d353aced1"
      },
      "execution_count": null,
      "outputs": [
        {
          "output_type": "stream",
          "name": "stdout",
          "text": [
            "1\n",
            "2\n",
            "3\n",
            "4\n",
            "5\n",
            "6\n",
            "7\n",
            "8\n",
            "9\n",
            "10\n"
          ]
        }
      ]
    },
    {
      "cell_type": "code",
      "source": [
        "for contador in range(1,4):\n",
        "  nota_1 = float(input('Digite a nota 1: '))\n",
        "  nota_2 = float(input('Digite a nota 2: '))\n",
        "  media = (nota_1 + nota_2) / 2\n",
        "  print(f'A média é {media}')"
      ],
      "metadata": {
        "colab": {
          "base_uri": "https://localhost:8080/"
        },
        "id": "y_eRW7ZXdUrn",
        "outputId": "b5417ba1-f7f1-4c69-c848-68ab6a8f3ca8"
      },
      "execution_count": null,
      "outputs": [
        {
          "output_type": "stream",
          "name": "stdout",
          "text": [
            "Digite a nota 1: 10\n",
            "Digite a nota 2: 8\n",
            "A média é 9.0\n",
            "Digite a nota 1: 5\n",
            "Digite a nota 2: 7\n",
            "A média é 6.0\n",
            "Digite a nota 1: 3\n",
            "Digite a nota 2: 5\n",
            "A média é 4.0\n"
          ]
        }
      ]
    },
    {
      "cell_type": "markdown",
      "source": [
        "## Exercícios"
      ],
      "metadata": {
        "id": "EtaxCoU2glMe"
      }
    },
    {
      "cell_type": "code",
      "source": [],
      "metadata": {
        "id": "_afxeQpsneYP"
      },
      "execution_count": null,
      "outputs": []
    },
    {
      "cell_type": "code",
      "source": [
        "num1 = int(input('Digite o primeiro número: '))\n",
        "num2 = int(input('Digite o segundo número: '))\n",
        "for contador in range(num1, num2 + 1):\n",
        "    print(contador)"
      ],
      "metadata": {
        "colab": {
          "base_uri": "https://localhost:8080/"
        },
        "id": "a6F7Ee3lfSar",
        "outputId": "e607aea3-0057-44b7-f18e-3ac68cc40ea6"
      },
      "execution_count": null,
      "outputs": [
        {
          "output_type": "stream",
          "name": "stdout",
          "text": [
            "Digite o primeiro número: 5\n",
            "Digite o segundo número: 10\n",
            "5\n",
            "6\n",
            "7\n",
            "8\n",
            "9\n",
            "10\n"
          ]
        }
      ]
    },
    {
      "cell_type": "code",
      "source": [
        "a = float(4)\n",
        "b = float(10)\n",
        "nr_dias = 1\n",
        "while a < b:\n",
        "   a *= 1.03\n",
        "   b *= 1.015\n",
        "   if a > b:\n",
        "    print(f'A colônia A passou a colônia b no {nr_dias}º dia, sendo que a colônia A tinha {a} bactérias e a colônia B tinha {b} bactérias')\n",
        "   nr_dias += 1\n"
      ],
      "metadata": {
        "colab": {
          "base_uri": "https://localhost:8080/"
        },
        "id": "f0UWybvSg04P",
        "outputId": "045a3524-afa5-4d75-94b7-6f5ab0d22be2"
      },
      "execution_count": null,
      "outputs": [
        {
          "output_type": "stream",
          "name": "stdout",
          "text": [
            "A colônia A passou a colônia b no 63º dia, sendo que a colônia A tinha 25.75165514029839 bactérias e a colônia B tinha 25.548220848110983 bactérias\n"
          ]
        }
      ]
    },
    {
      "cell_type": "code",
      "source": [
        "for i in range(1,16):\n",
        "  avaliacao = int(input('Digite a avaliação do serviço: '))\n",
        "  if 0 <= avaliacao <= 5:\n",
        "    print(avaliacao)\n",
        "  else:\n",
        "    print('Avaliação inválida')\n"
      ],
      "metadata": {
        "colab": {
          "base_uri": "https://localhost:8080/"
        },
        "id": "xSgGL_nHj5sl",
        "outputId": "e92d5192-5907-4e08-88bf-bd69e1b473be"
      },
      "execution_count": null,
      "outputs": [
        {
          "output_type": "stream",
          "name": "stdout",
          "text": [
            "Digite a avaliação do serviço: 1\n",
            "1\n",
            "Digite a avaliação do serviço: 2\n",
            "2\n",
            "Digite a avaliação do serviço: 3\n",
            "3\n",
            "Digite a avaliação do serviço: 4\n",
            "4\n",
            "Digite a avaliação do serviço: 5\n",
            "5\n",
            "Digite a avaliação do serviço: 6\n",
            "Avaliação inválida\n",
            "Digite a avaliação do serviço: 7\n",
            "Avaliação inválida\n",
            "Digite a avaliação do serviço: 8\n",
            "Avaliação inválida\n",
            "Digite a avaliação do serviço: 9\n",
            "Avaliação inválida\n",
            "Digite a avaliação do serviço: 10\n",
            "Avaliação inválida\n",
            "Digite a avaliação do serviço: 11\n",
            "Avaliação inválida\n",
            "Digite a avaliação do serviço: 12\n",
            "Avaliação inválida\n",
            "Digite a avaliação do serviço: 13\n",
            "Avaliação inválida\n",
            "Digite a avaliação do serviço: 14\n",
            "Avaliação inválida\n",
            "Digite a avaliação do serviço: 15\n",
            "Avaliação inválida\n"
          ]
        }
      ]
    },
    {
      "cell_type": "code",
      "source": [
        "contador = 0\n",
        "temperatura = 0\n",
        "acum_temperatura = 0\n",
        "while True:\n",
        "  temperatura = float(input('Digite a temperatura: '))\n",
        "  if temperatura == -273:\n",
        "    break\n",
        "  acum_temperatura += temperatura\n",
        "  contador += 1\n",
        "  media = temperatura / contador\n",
        "media = acum_temperatura / contador\n",
        "print(f'A média da temperatura é {media}')"
      ],
      "metadata": {
        "colab": {
          "base_uri": "https://localhost:8080/",
          "height": 356
        },
        "collapsed": true,
        "id": "bntr3jHilD9a",
        "outputId": "e6a2918a-7006-417b-e3ce-535a7c9426e6"
      },
      "execution_count": null,
      "outputs": [
        {
          "output_type": "error",
          "ename": "KeyboardInterrupt",
          "evalue": "Interrupted by user",
          "traceback": [
            "\u001b[0;31m---------------------------------------------------------------------------\u001b[0m",
            "\u001b[0;31mKeyboardInterrupt\u001b[0m                         Traceback (most recent call last)",
            "\u001b[0;32m<ipython-input-28-abf54505f677>\u001b[0m in \u001b[0;36m<cell line: 4>\u001b[0;34m()\u001b[0m\n\u001b[1;32m      3\u001b[0m \u001b[0macum_temperatura\u001b[0m \u001b[0;34m=\u001b[0m \u001b[0;36m0\u001b[0m\u001b[0;34m\u001b[0m\u001b[0;34m\u001b[0m\u001b[0m\n\u001b[1;32m      4\u001b[0m \u001b[0;32mwhile\u001b[0m \u001b[0;32mTrue\u001b[0m\u001b[0;34m:\u001b[0m\u001b[0;34m\u001b[0m\u001b[0;34m\u001b[0m\u001b[0m\n\u001b[0;32m----> 5\u001b[0;31m   \u001b[0mtemperatura\u001b[0m \u001b[0;34m=\u001b[0m \u001b[0mfloat\u001b[0m\u001b[0;34m(\u001b[0m\u001b[0minput\u001b[0m\u001b[0;34m(\u001b[0m\u001b[0;34m'Digite a temperatura: '\u001b[0m\u001b[0;34m)\u001b[0m\u001b[0;34m)\u001b[0m\u001b[0;34m\u001b[0m\u001b[0;34m\u001b[0m\u001b[0m\n\u001b[0m\u001b[1;32m      6\u001b[0m   \u001b[0;32mif\u001b[0m \u001b[0mtemperatura\u001b[0m \u001b[0;34m==\u001b[0m \u001b[0;34m-\u001b[0m\u001b[0;36m273\u001b[0m\u001b[0;34m:\u001b[0m\u001b[0;34m\u001b[0m\u001b[0;34m\u001b[0m\u001b[0m\n\u001b[1;32m      7\u001b[0m     \u001b[0;32mbreak\u001b[0m\u001b[0;34m\u001b[0m\u001b[0;34m\u001b[0m\u001b[0m\n",
            "\u001b[0;32m/usr/local/lib/python3.10/dist-packages/ipykernel/kernelbase.py\u001b[0m in \u001b[0;36mraw_input\u001b[0;34m(self, prompt)\u001b[0m\n\u001b[1;32m    849\u001b[0m                 \u001b[0;34m\"raw_input was called, but this frontend does not support input requests.\"\u001b[0m\u001b[0;34m\u001b[0m\u001b[0;34m\u001b[0m\u001b[0m\n\u001b[1;32m    850\u001b[0m             )\n\u001b[0;32m--> 851\u001b[0;31m         return self._input_request(str(prompt),\n\u001b[0m\u001b[1;32m    852\u001b[0m             \u001b[0mself\u001b[0m\u001b[0;34m.\u001b[0m\u001b[0m_parent_ident\u001b[0m\u001b[0;34m,\u001b[0m\u001b[0;34m\u001b[0m\u001b[0;34m\u001b[0m\u001b[0m\n\u001b[1;32m    853\u001b[0m             \u001b[0mself\u001b[0m\u001b[0;34m.\u001b[0m\u001b[0m_parent_header\u001b[0m\u001b[0;34m,\u001b[0m\u001b[0;34m\u001b[0m\u001b[0;34m\u001b[0m\u001b[0m\n",
            "\u001b[0;32m/usr/local/lib/python3.10/dist-packages/ipykernel/kernelbase.py\u001b[0m in \u001b[0;36m_input_request\u001b[0;34m(self, prompt, ident, parent, password)\u001b[0m\n\u001b[1;32m    893\u001b[0m             \u001b[0;32mexcept\u001b[0m \u001b[0mKeyboardInterrupt\u001b[0m\u001b[0;34m:\u001b[0m\u001b[0;34m\u001b[0m\u001b[0;34m\u001b[0m\u001b[0m\n\u001b[1;32m    894\u001b[0m                 \u001b[0;31m# re-raise KeyboardInterrupt, to truncate traceback\u001b[0m\u001b[0;34m\u001b[0m\u001b[0;34m\u001b[0m\u001b[0m\n\u001b[0;32m--> 895\u001b[0;31m                 \u001b[0;32mraise\u001b[0m \u001b[0mKeyboardInterrupt\u001b[0m\u001b[0;34m(\u001b[0m\u001b[0;34m\"Interrupted by user\"\u001b[0m\u001b[0;34m)\u001b[0m \u001b[0;32mfrom\u001b[0m \u001b[0;32mNone\u001b[0m\u001b[0;34m\u001b[0m\u001b[0;34m\u001b[0m\u001b[0m\n\u001b[0m\u001b[1;32m    896\u001b[0m             \u001b[0;32mexcept\u001b[0m \u001b[0mException\u001b[0m \u001b[0;32mas\u001b[0m \u001b[0me\u001b[0m\u001b[0;34m:\u001b[0m\u001b[0;34m\u001b[0m\u001b[0;34m\u001b[0m\u001b[0m\n\u001b[1;32m    897\u001b[0m                 \u001b[0mself\u001b[0m\u001b[0;34m.\u001b[0m\u001b[0mlog\u001b[0m\u001b[0;34m.\u001b[0m\u001b[0mwarning\u001b[0m\u001b[0;34m(\u001b[0m\u001b[0;34m\"Invalid Message:\"\u001b[0m\u001b[0;34m,\u001b[0m \u001b[0mexc_info\u001b[0m\u001b[0;34m=\u001b[0m\u001b[0;32mTrue\u001b[0m\u001b[0;34m)\u001b[0m\u001b[0;34m\u001b[0m\u001b[0;34m\u001b[0m\u001b[0m\n",
            "\u001b[0;31mKeyboardInterrupt\u001b[0m: Interrupted by user"
          ]
        }
      ]
    },
    {
      "cell_type": "code",
      "source": [
        "fatorial = 1\n",
        "num_fatorial = int(input('Digite um número para calcular o fatorial: '))\n",
        "for i in range(num_fatorial,1,-1):\n",
        "  fatorial *= i\n",
        "print(fatorial)"
      ],
      "metadata": {
        "colab": {
          "base_uri": "https://localhost:8080/"
        },
        "id": "mC0DkrxEnfgC",
        "outputId": "8961ca9b-4717-438b-8fbe-8beacb2868bf"
      },
      "execution_count": null,
      "outputs": [
        {
          "output_type": "stream",
          "name": "stdout",
          "text": [
            "Digite um número para calcular o fatorial: 5\n",
            "120\n"
          ]
        }
      ]
    },
    {
      "cell_type": "code",
      "source": [
        "num_tabuada = int(input('Digite um número para calcular a tabuada: '))\n",
        "for i in range(1,11):\n",
        "  print(f'{num_tabuada} x {i} = {num_tabuada * i}')"
      ],
      "metadata": {
        "colab": {
          "base_uri": "https://localhost:8080/"
        },
        "id": "mW0DPNvwxHx9",
        "outputId": "66a0a58e-04d5-49df-bf82-91d63589c2d0"
      },
      "execution_count": null,
      "outputs": [
        {
          "output_type": "stream",
          "name": "stdout",
          "text": [
            "Digite um número para calcular a tabuada: 11\n",
            "11 x 1 = 11\n",
            "11 x 2 = 22\n",
            "11 x 3 = 33\n",
            "11 x 4 = 44\n",
            "11 x 5 = 55\n",
            "11 x 6 = 66\n",
            "11 x 7 = 77\n",
            "11 x 8 = 88\n",
            "11 x 9 = 99\n",
            "11 x 10 = 110\n"
          ]
        }
      ]
    },
    {
      "cell_type": "code",
      "source": [
        "primo = int(input('Digite um número para verificar se é primo: '))\n",
        "contador = 0\n",
        "for i in range(2,primo):\n",
        "  if primo % i == 0:\n",
        "    contador += 1\n",
        "    break\n",
        "if contador == 0:\n",
        "  print(f'O número {primo}  é primo')\n",
        "else:\n",
        "  print('O número {primo} não é primo')\n"
      ],
      "metadata": {
        "colab": {
          "base_uri": "https://localhost:8080/"
        },
        "id": "NSE6GtxoxUqx",
        "outputId": "1b7ed50e-91fb-46d5-ddad-a5099da567b8"
      },
      "execution_count": null,
      "outputs": [
        {
          "output_type": "stream",
          "name": "stdout",
          "text": [
            "Digite um número para verificar se é primo: 127\n",
            "O número 127  é primo\n"
          ]
        }
      ]
    },
    {
      "cell_type": "code",
      "source": [
        "faixa0_25 = 0\n",
        "faixa26_50 = 0\n",
        "faixa51_75 = 0\n",
        "faixa76_100 = 0\n",
        "while True:\n",
        "  idade_pensionista = int(input('Digite a idade do pensionista: '))\n",
        "  if idade_pensionista < 0:\n",
        "    break\n",
        "  elif 0 < idade_pensionista <= 25:\n",
        "    faixa0_25 += 1\n",
        "  elif 25 < idade_pensionista <= 50:\n",
        "    faixa26_50 += 1\n",
        "  elif 50 < idade_pensionista <= 75:\n",
        "    faixa51_75 += 1\n",
        "  elif 75 < idade_pensionista <= 100:\n",
        "    faixa76_100 += 1\n",
        "  else:\n",
        "    print('Parabéns! Passou dos 100!')\n",
        "\n",
        "print(f'\\n\\n\\nEntre 0 - 25 anos: {faixa0_25}')\n",
        "print(f'Entre 26 - 50 anos: {faixa26_50}')\n",
        "print(f'Entre 51 - 75 anos: {faixa51_75}')\n",
        "print(f'Entre 76 - 100 anos: {faixa76_100}')"
      ],
      "metadata": {
        "colab": {
          "base_uri": "https://localhost:8080/"
        },
        "id": "cd-w3Nq20A8Y",
        "outputId": "dabf26c5-742b-4359-a097-03dcb967c0a2"
      },
      "execution_count": null,
      "outputs": [
        {
          "output_type": "stream",
          "name": "stdout",
          "text": [
            "Digite a idade do pensionista: 1\n",
            "Digite a idade do pensionista: 2\n",
            "Digite a idade do pensionista: 3\n",
            "Digite a idade do pensionista: -1\n",
            "\n",
            "\n",
            "\n",
            "Entre 0 - 25 anos: 3\n",
            "Entre 26 - 50 anos: 0\n",
            "Entre 51 - 75 anos: 0\n",
            "Entre 76 - 100 anos: 0\n"
          ]
        }
      ]
    },
    {
      "cell_type": "code",
      "source": [
        "candidato1 = 0\n",
        "candidato2 = 0\n",
        "candidato3 = 0\n",
        "candidato4 = 0\n",
        "branco = 0\n",
        "nulo = 0\n",
        "for i in range(1,21):\n",
        "  voto = int(input(\"Escolha o candidato \"))\n",
        "  if voto == 1:\n",
        "    candidato1 += 1\n",
        "  elif voto == 2:\n",
        "    candidato2 += 1\n",
        "  elif voto == 3:\n",
        "    candidato3 += 1\n",
        "  elif voto == 4:\n",
        "    candidato4 += 1\n",
        "  elif voto == 5:\n",
        "    branco += 1\n",
        "  elif voto == 6:\n",
        "    nulo += 1\n",
        "  else:\n",
        "    print('Voto inválido')\n",
        "\n",
        "\n",
        "\n",
        "print(f'O candidato 1 teve {candidato1} votos')\n",
        "print(f'O candidato 2 teve {candidato2} votos')\n",
        "print(f'O candidato 3 teve {candidato3} votos')\n",
        "print(f'O candidato 4 teve {candidato4} votos')\n",
        "print(f'Houve {branco} votos em branco')\n",
        "print(f'Houve {nulo} votos nulos')\n",
        "total_votos_validos = candidato1 + candidato2 + candidato3 + candidato4\n",
        "print(f'\\nO total de votos válidos foi {total_votos_validos}')\n",
        "\n",
        "if candidato1 > candidato2 and candidato1 > candidato3 and candidato1 > candidato4:\n",
        "  print(f'O candidato 1 foi o vencedor com {candidato1} votos')\n",
        "elif candidato2 > candidato1 and candidato2 > candidato3 and candidato2 > candidato4:\n",
        "  print(f'O candidato 2 foi o vencedor com {candidato2} votos')\n",
        "elif candidato3 > candidato1 and candidato3 > candidato2 and candidato3 > candidato4:\n",
        "  print(f'O candidato 3 foi o vencedor com {candidato3} votos')\n",
        "elif candidato4 > candidato1 and candidato4 > candidato2 and candidato4 > candidato3:\n",
        "  print(f'O candidato 4 foi o vencedor com {candidato4} votos')\n",
        "else:\n",
        "  print('Houve empate')\n"
      ],
      "metadata": {
        "colab": {
          "base_uri": "https://localhost:8080/"
        },
        "id": "LO_OE5B15Ch5",
        "outputId": "7473835e-0b6c-470a-d93b-17a8e8130f68"
      },
      "execution_count": null,
      "outputs": [
        {
          "output_type": "stream",
          "name": "stdout",
          "text": [
            "Escolha o candidato 1\n",
            "Escolha o candidato 2\n",
            "Escolha o candidato 3\n",
            "Escolha o candidato 4\n",
            "Escolha o candidato 5\n",
            "Escolha o candidato 6\n",
            "Escolha o candidato 7\n",
            "Voto inválido\n",
            "Escolha o candidato 1\n",
            "Escolha o candidato 2\n",
            "Escolha o candidato 3\n",
            "Escolha o candidato 4\n",
            "Escolha o candidato 5\n",
            "Escolha o candidato 6\n",
            "Escolha o candidato 7\n",
            "Voto inválido\n",
            "Escolha o candidato 1\n",
            "Escolha o candidato 2\n",
            "Escolha o candidato 3\n",
            "Escolha o candidato 4\n",
            "Escolha o candidato 5\n",
            "Escolha o candidato 6\n",
            "O candidato 1 teve 3 votos\n",
            "O candidato 2 teve 3 votos\n",
            "O candidato 3 teve 3 votos\n",
            "O candidato 4 teve 3 votos\n",
            "Houve 3 votos em branco\n",
            "Houve 3 votos nulos\n",
            "\n",
            "O total de votos válidos foi 12\n",
            "Houve empate\n"
          ]
        }
      ]
    },
    {
      "cell_type": "markdown",
      "source": [
        "# Listas\n"
      ],
      "metadata": {
        "id": "lAeUds25BOHT"
      }
    },
    {
      "cell_type": "code",
      "source": [
        "lista = ['Fabricio Daniel',9.5,9.0,8.0,True]\n",
        "for elemento in lista:\n",
        "  print(elemento)"
      ],
      "metadata": {
        "id": "FxDUHcBVBVoq",
        "colab": {
          "base_uri": "https://localhost:8080/"
        },
        "outputId": "cf878b00-75b1-4559-dc5b-677cfd2de2cd"
      },
      "execution_count": null,
      "outputs": [
        {
          "output_type": "stream",
          "name": "stdout",
          "text": [
            "Fabricio Daniel\n",
            "9.5\n",
            "9.0\n",
            "8.0\n",
            "True\n"
          ]
        }
      ]
    },
    {
      "cell_type": "code",
      "source": [
        "len(lista)"
      ],
      "metadata": {
        "colab": {
          "base_uri": "https://localhost:8080/"
        },
        "id": "XlAPlKShVD6T",
        "outputId": "912e0d35-4ec5-4c35-dc3c-2cd587f906cd"
      },
      "execution_count": null,
      "outputs": [
        {
          "output_type": "execute_result",
          "data": {
            "text/plain": [
              "5"
            ]
          },
          "metadata": {},
          "execution_count": 3
        }
      ]
    },
    {
      "cell_type": "code",
      "source": [
        "lista[1:4]"
      ],
      "metadata": {
        "colab": {
          "base_uri": "https://localhost:8080/"
        },
        "id": "WmM4j6tfVHk_",
        "outputId": "3e8e21d1-1b77-4791-98fc-12f13e183786"
      },
      "execution_count": null,
      "outputs": [
        {
          "output_type": "execute_result",
          "data": {
            "text/plain": [
              "[9.5, 9.0, 8.0]"
            ]
          },
          "metadata": {},
          "execution_count": 5
        }
      ]
    },
    {
      "cell_type": "code",
      "source": [
        "lista[3:]\n"
      ],
      "metadata": {
        "colab": {
          "base_uri": "https://localhost:8080/"
        },
        "id": "vyCi29-KVqa4",
        "outputId": "fc01e550-c52f-4e36-880b-a83be80dc882"
      },
      "execution_count": null,
      "outputs": [
        {
          "output_type": "execute_result",
          "data": {
            "text/plain": [
              "[8.0, True]"
            ]
          },
          "metadata": {},
          "execution_count": 6
        }
      ]
    },
    {
      "cell_type": "code",
      "source": [
        "  media = (lista[1] + lista[2] + lista[3]) / 3\n",
        "  print(media)"
      ],
      "metadata": {
        "colab": {
          "base_uri": "https://localhost:8080/"
        },
        "id": "5JUB6_pMWS45",
        "outputId": "e06a9254-b688-4467-e877-017a2c31fa0f"
      },
      "execution_count": null,
      "outputs": [
        {
          "output_type": "stream",
          "name": "stdout",
          "text": [
            "8.833333333333334\n"
          ]
        }
      ]
    },
    {
      "cell_type": "code",
      "source": [
        "lista.append(media)\n",
        "print(lista)"
      ],
      "metadata": {
        "colab": {
          "base_uri": "https://localhost:8080/"
        },
        "id": "_gBCqvZXX-uS",
        "outputId": "d26a60ee-738f-409d-d9d7-114b866c1c25"
      },
      "execution_count": null,
      "outputs": [
        {
          "output_type": "stream",
          "name": "stdout",
          "text": [
            "['Fabricio Daniel', 9.5, 9.0, 8.0, True, 8.833333333333334]\n"
          ]
        }
      ]
    },
    {
      "cell_type": "code",
      "source": [
        " lista.extend([10.0,8.0,9.0])\n",
        " print(lista)"
      ],
      "metadata": {
        "colab": {
          "base_uri": "https://localhost:8080/"
        },
        "id": "Bi2Z3RvYYF9K",
        "outputId": "c8b58953-7e4a-4503-c8d4-b75a5de3c9a5"
      },
      "execution_count": null,
      "outputs": [
        {
          "output_type": "stream",
          "name": "stdout",
          "text": [
            "['Fabricio Daniel', 9.5, 9.0, 8.0, True, 8.833333333333334, 10.0, 8.0, 9.0, 10.0, 8.0, 9.0]\n"
          ]
        }
      ]
    },
    {
      "cell_type": "code",
      "source": [
        "lista.append([10.0,8.0,9.0]) #não funciona!!! tem que usar o extend\n",
        "print(lista) #aparece como se fosse um elemento só"
      ],
      "metadata": {
        "colab": {
          "base_uri": "https://localhost:8080/"
        },
        "id": "yopR-WILYxFq",
        "outputId": "4298e67a-4d1f-4760-fa4c-30bd3e8701ec"
      },
      "execution_count": null,
      "outputs": [
        {
          "output_type": "stream",
          "name": "stdout",
          "text": [
            "['Fabricio Daniel', 9.5, 9.0, 8.0, True, 8.833333333333334, 10.0, 8.0, 9.0, 10.0, 8.0, 9.0, [10.0, 8.0, 9.0]]\n"
          ]
        }
      ]
    },
    {
      "cell_type": "code",
      "source": [
        "lista.remove([10.0,8.0,9.0])\n",
        "print(lista)"
      ],
      "metadata": {
        "colab": {
          "base_uri": "https://localhost:8080/"
        },
        "id": "qL9Dt7f9ZaCi",
        "outputId": "8387c349-3057-4342-f6db-2b7183a78851"
      },
      "execution_count": null,
      "outputs": [
        {
          "output_type": "stream",
          "name": "stdout",
          "text": [
            "['Fabricio Daniel', 9.5, 9.0, 8.0, True, 8.833333333333334, 10.0, 8.0, 9.0, 10.0, 8.0, 9.0]\n"
          ]
        }
      ]
    },
    {
      "cell_type": "code",
      "source": [
        "lista.remove(4)\n",
        "print(lista)"
      ],
      "metadata": {
        "colab": {
          "base_uri": "https://localhost:8080/",
          "height": 159
        },
        "id": "AXuiwCNrZzEN",
        "outputId": "39901116-c622-473d-c053-7b9c4bb320c4"
      },
      "execution_count": null,
      "outputs": [
        {
          "output_type": "error",
          "ename": "ValueError",
          "evalue": "list.remove(x): x not in list",
          "traceback": [
            "\u001b[0;31m---------------------------------------------------------------------------\u001b[0m",
            "\u001b[0;31mValueError\u001b[0m                                Traceback (most recent call last)",
            "\u001b[0;32m<ipython-input-13-23d17d7f8bac>\u001b[0m in \u001b[0;36m<cell line: 1>\u001b[0;34m()\u001b[0m\n\u001b[0;32m----> 1\u001b[0;31m \u001b[0mlista\u001b[0m\u001b[0;34m.\u001b[0m\u001b[0mremove\u001b[0m\u001b[0;34m(\u001b[0m\u001b[0;36m4\u001b[0m\u001b[0;34m)\u001b[0m\u001b[0;34m\u001b[0m\u001b[0;34m\u001b[0m\u001b[0m\n\u001b[0m\u001b[1;32m      2\u001b[0m \u001b[0mprint\u001b[0m\u001b[0;34m(\u001b[0m\u001b[0mlista\u001b[0m\u001b[0;34m)\u001b[0m\u001b[0;34m\u001b[0m\u001b[0;34m\u001b[0m\u001b[0m\n",
            "\u001b[0;31mValueError\u001b[0m: list.remove(x): x not in list"
          ]
        }
      ]
    },
    {
      "cell_type": "code",
      "source": [],
      "metadata": {
        "id": "zb-tiqxWZ7CZ"
      },
      "execution_count": null,
      "outputs": []
    },
    {
      "cell_type": "markdown",
      "source": [
        "# Dicionários"
      ],
      "metadata": {
        "id": "fzgK7NQMQKqC"
      }
    },
    {
      "cell_type": "code",
      "source": [
        "cadastro = {'matrícula': 2000168933,\n",
        "            'dia_cadastro': 25,\n",
        "            'mes_cadastro':10,\n",
        "            'turma:': '2E'}\n",
        "print(cadastro)"
      ],
      "metadata": {
        "colab": {
          "base_uri": "https://localhost:8080/"
        },
        "id": "C2SsW-idQU0o",
        "outputId": "69eb5700-fe33-4b05-bc1c-ca74408f8023"
      },
      "execution_count": null,
      "outputs": [
        {
          "output_type": "stream",
          "name": "stdout",
          "text": [
            "{'matrícula': 2000168933, 'dia_cadastro': 25, 'mes_cadastro': 10, 'turma:': '2E'}\n"
          ]
        }
      ]
    },
    {
      "cell_type": "code",
      "source": [
        "cadastro['matrícula']"
      ],
      "metadata": {
        "colab": {
          "base_uri": "https://localhost:8080/"
        },
        "id": "XdQPSHckRk7d",
        "outputId": "d65a9dc4-73bd-4485-8f6f-bae0cd2df72b"
      },
      "execution_count": null,
      "outputs": [
        {
          "output_type": "execute_result",
          "data": {
            "text/plain": [
              "2000168933"
            ]
          },
          "metadata": {},
          "execution_count": 5
        }
      ]
    },
    {
      "cell_type": "code",
      "source": [
        "cadastro['turma'] = '2G'\n",
        "print(cadastro['turma'])"
      ],
      "metadata": {
        "colab": {
          "base_uri": "https://localhost:8080/"
        },
        "id": "BLiZunZ0SeeN",
        "outputId": "143be905-71b8-4229-aca6-e781927c07c6"
      },
      "execution_count": null,
      "outputs": [
        {
          "output_type": "stream",
          "name": "stdout",
          "text": [
            "2G\n"
          ]
        }
      ]
    },
    {
      "cell_type": "code",
      "source": [
        "cadastro['modallidade'] = 'EAD'\n",
        "print(cadastro)"
      ],
      "metadata": {
        "colab": {
          "base_uri": "https://localhost:8080/"
        },
        "id": "e8c3D7QrS7Zh",
        "outputId": "5109b9ea-8e6e-4fef-a116-330ddf149f17"
      },
      "execution_count": null,
      "outputs": [
        {
          "output_type": "stream",
          "name": "stdout",
          "text": [
            "{'matrícula': 2000168933, 'dia_cadastro': 25, 'mes_cadastro': 10, 'turma:': '2E', 'turma': '2G', 'modallidade': 'EAD'}\n"
          ]
        }
      ]
    },
    {
      "cell_type": "code",
      "source": [
        "cadastro.pop('turma')\n",
        "print(cadastro)"
      ],
      "metadata": {
        "colab": {
          "base_uri": "https://localhost:8080/"
        },
        "id": "S1NRY96tVHK7",
        "outputId": "53e71aa1-ccd0-4e8c-f45c-3247dd44fbd2"
      },
      "execution_count": null,
      "outputs": [
        {
          "output_type": "stream",
          "name": "stdout",
          "text": [
            "{'matrícula': 2000168933, 'dia_cadastro': 25, 'mes_cadastro': 10, 'turma:': '2E', 'modallidade': 'EAD'}\n"
          ]
        }
      ]
    },
    {
      "cell_type": "code",
      "source": [
        "cadastro"
      ],
      "metadata": {
        "colab": {
          "base_uri": "https://localhost:8080/"
        },
        "id": "gTKrIT-9VN3F",
        "outputId": "aaf1a52c-f1ff-4bd8-a449-8c50601d0924"
      },
      "execution_count": null,
      "outputs": [
        {
          "output_type": "execute_result",
          "data": {
            "text/plain": [
              "{'matrícula': 2000168933,\n",
              " 'dia_cadastro': 25,\n",
              " 'mes_cadastro': 10,\n",
              " 'turma:': '2E',\n",
              " 'modallidade': 'EAD'}"
            ]
          },
          "metadata": {},
          "execution_count": 9
        }
      ]
    },
    {
      "cell_type": "code",
      "source": [
        "cadastro.pop('turma:')"
      ],
      "metadata": {
        "colab": {
          "base_uri": "https://localhost:8080/",
          "height": 35
        },
        "id": "Zud5OU53VVmC",
        "outputId": "46627a8c-b161-4dfe-ceb0-8e0ec2d51625"
      },
      "execution_count": null,
      "outputs": [
        {
          "output_type": "execute_result",
          "data": {
            "text/plain": [
              "'2E'"
            ],
            "application/vnd.google.colaboratory.intrinsic+json": {
              "type": "string"
            }
          },
          "metadata": {},
          "execution_count": 10
        }
      ]
    },
    {
      "cell_type": "code",
      "source": [
        "cadastro\n"
      ],
      "metadata": {
        "colab": {
          "base_uri": "https://localhost:8080/"
        },
        "id": "PbY3v3X1VcPe",
        "outputId": "c3306973-dac4-4031-9d05-445d5c5014ef"
      },
      "execution_count": null,
      "outputs": [
        {
          "output_type": "execute_result",
          "data": {
            "text/plain": [
              "{'matrícula': 2000168933,\n",
              " 'dia_cadastro': 25,\n",
              " 'mes_cadastro': 10,\n",
              " 'modallidade': 'EAD'}"
            ]
          },
          "metadata": {},
          "execution_count": 11
        }
      ]
    },
    {
      "cell_type": "code",
      "source": [
        "cadastro.items()"
      ],
      "metadata": {
        "colab": {
          "base_uri": "https://localhost:8080/"
        },
        "id": "ZhEGpuu3WRKN",
        "outputId": "de37fe51-9500-418d-f031-e0f5315be29e"
      },
      "execution_count": null,
      "outputs": [
        {
          "output_type": "execute_result",
          "data": {
            "text/plain": [
              "dict_items([('matrícula', 2000168933), ('dia_cadastro', 25), ('mes_cadastro', 10), ('modallidade', 'EAD')])"
            ]
          },
          "metadata": {},
          "execution_count": 13
        }
      ]
    },
    {
      "cell_type": "code",
      "source": [
        "cadastro.keys()"
      ],
      "metadata": {
        "colab": {
          "base_uri": "https://localhost:8080/"
        },
        "id": "CwkZOxhuWUXM",
        "outputId": "580cfee8-552b-4597-e098-a6cd9d2490f8"
      },
      "execution_count": null,
      "outputs": [
        {
          "output_type": "execute_result",
          "data": {
            "text/plain": [
              "dict_keys(['matrícula', 'dia_cadastro', 'mes_cadastro', 'modallidade'])"
            ]
          },
          "metadata": {},
          "execution_count": 14
        }
      ]
    },
    {
      "cell_type": "code",
      "source": [
        "cadastro.values()"
      ],
      "metadata": {
        "colab": {
          "base_uri": "https://localhost:8080/"
        },
        "id": "ORlO6K7hWgGG",
        "outputId": "01508a98-f049-4450-a800-a8cd3397247f"
      },
      "execution_count": null,
      "outputs": [
        {
          "output_type": "execute_result",
          "data": {
            "text/plain": [
              "dict_values([2000168933, 25, 10, 'EAD'])"
            ]
          },
          "metadata": {},
          "execution_count": 15
        }
      ]
    },
    {
      "cell_type": "code",
      "source": [
        "for chaves, valores in cadastro.items():\n",
        "  print(chaves, valores)"
      ],
      "metadata": {
        "colab": {
          "base_uri": "https://localhost:8080/"
        },
        "id": "EYQ7en-LWuX2",
        "outputId": "b079c3cf-f3fa-4220-cc0e-5f28b7fcc7c5"
      },
      "execution_count": null,
      "outputs": [
        {
          "output_type": "stream",
          "name": "stdout",
          "text": [
            "matrícula 2000168933\n",
            "dia_cadastro 25\n",
            "mes_cadastro 10\n",
            "modallidade EAD\n"
          ]
        }
      ]
    },
    {
      "cell_type": "code",
      "source": [
        "loja = {'nomes': ['televisão', 'celular', 'notebook', 'geladeira', 'fogão'],\n",
        "        'precos': [2000, 1500, 3500, 4000, 1500]}"
      ],
      "metadata": {
        "id": "iiH1g82aYPrF"
      },
      "execution_count": null,
      "outputs": []
    },
    {
      "cell_type": "code",
      "source": [
        "print(loja)\n",
        "\n",
        "nomes = loja['nomes']\n",
        "precos = loja['precos']\n",
        "#print(nomes)\n",
        "#print(precos)\n",
        "for i in range(len(nomes)):\n",
        "  print(f'{nomes[i]} custa {precos[i]}')"
      ],
      "metadata": {
        "colab": {
          "base_uri": "https://localhost:8080/"
        },
        "id": "VFxQkWMAZgjm",
        "outputId": "f39c9d41-f417-45b4-f42c-f27c49673987"
      },
      "execution_count": null,
      "outputs": [
        {
          "output_type": "stream",
          "name": "stdout",
          "text": [
            "{'nomes': ['televisão', 'celular', 'notebook', 'geladeira', 'fogão'], 'precos': [2000, 1500, 3500, 4000, 1500]}\n",
            "televisão custa 2000\n",
            "celular custa 1500\n",
            "notebook custa 3500\n",
            "geladeira custa 4000\n",
            "fogão custa 1500\n"
          ]
        }
      ]
    },
    {
      "cell_type": "markdown",
      "source": [
        "## Funções Built-in\n"
      ],
      "metadata": {
        "id": "zLOC5HCzwAh3"
      }
    },
    {
      "cell_type": "code",
      "source": [
        "precos = [100.0, 400.0, 200.0]\n",
        "soma = sum(precos)\n",
        "print(soma)"
      ],
      "metadata": {
        "colab": {
          "base_uri": "https://localhost:8080/"
        },
        "id": "pgvwheamdyVx",
        "outputId": "a302b176-04c2-4a5f-9ea8-1012b9fa14af"
      },
      "execution_count": null,
      "outputs": [
        {
          "output_type": "stream",
          "name": "stdout",
          "text": [
            "700.0\n"
          ]
        }
      ]
    },
    {
      "cell_type": "code",
      "source": [
        "help(print)\n"
      ],
      "metadata": {
        "colab": {
          "base_uri": "https://localhost:8080/"
        },
        "id": "AhAVi3o0wfYF",
        "outputId": "b7bd9706-b866-412c-d67c-42109da8a096"
      },
      "execution_count": null,
      "outputs": [
        {
          "output_type": "stream",
          "name": "stdout",
          "text": [
            "Help on built-in function print in module builtins:\n",
            "\n",
            "print(...)\n",
            "    print(value, ..., sep=' ', end='\\n', file=sys.stdout, flush=False)\n",
            "    \n",
            "    Prints the values to a stream, or to sys.stdout by default.\n",
            "    Optional keyword arguments:\n",
            "    file:  a file-like object (stream); defaults to the current sys.stdout.\n",
            "    sep:   string inserted between values, default a space.\n",
            "    end:   string appended after the last value, default a newline.\n",
            "    flush: whether to forcibly flush the stream.\n",
            "\n"
          ]
        }
      ]
    },
    {
      "cell_type": "code",
      "source": [
        "dir(lista)"
      ],
      "metadata": {
        "colab": {
          "base_uri": "https://localhost:8080/",
          "height": 141
        },
        "id": "QMIgzxsawwo1",
        "outputId": "9c24b151-2a9f-48b7-9c2b-c63bfe8c7fa9"
      },
      "execution_count": null,
      "outputs": [
        {
          "output_type": "error",
          "ename": "NameError",
          "evalue": "name 'lista' is not defined",
          "traceback": [
            "\u001b[0;31m---------------------------------------------------------------------------\u001b[0m",
            "\u001b[0;31mNameError\u001b[0m                                 Traceback (most recent call last)",
            "\u001b[0;32m<ipython-input-34-b7234bd32f0d>\u001b[0m in \u001b[0;36m<cell line: 1>\u001b[0;34m()\u001b[0m\n\u001b[0;32m----> 1\u001b[0;31m \u001b[0mdir\u001b[0m\u001b[0;34m(\u001b[0m\u001b[0mlista\u001b[0m\u001b[0;34m)\u001b[0m\u001b[0;34m\u001b[0m\u001b[0;34m\u001b[0m\u001b[0m\n\u001b[0m",
            "\u001b[0;31mNameError\u001b[0m: name 'lista' is not defined"
          ]
        }
      ]
    },
    {
      "cell_type": "code",
      "source": [
        "dir(loja)\n"
      ],
      "metadata": {
        "colab": {
          "base_uri": "https://localhost:8080/"
        },
        "id": "eeZ2RXP4xh4f",
        "outputId": "2ad47f99-567c-4846-9c47-07f828ac998d"
      },
      "execution_count": null,
      "outputs": [
        {
          "output_type": "execute_result",
          "data": {
            "text/plain": [
              "['__class__',\n",
              " '__class_getitem__',\n",
              " '__contains__',\n",
              " '__delattr__',\n",
              " '__delitem__',\n",
              " '__dir__',\n",
              " '__doc__',\n",
              " '__eq__',\n",
              " '__format__',\n",
              " '__ge__',\n",
              " '__getattribute__',\n",
              " '__getitem__',\n",
              " '__gt__',\n",
              " '__hash__',\n",
              " '__init__',\n",
              " '__init_subclass__',\n",
              " '__ior__',\n",
              " '__iter__',\n",
              " '__le__',\n",
              " '__len__',\n",
              " '__lt__',\n",
              " '__ne__',\n",
              " '__new__',\n",
              " '__or__',\n",
              " '__reduce__',\n",
              " '__reduce_ex__',\n",
              " '__repr__',\n",
              " '__reversed__',\n",
              " '__ror__',\n",
              " '__setattr__',\n",
              " '__setitem__',\n",
              " '__sizeof__',\n",
              " '__str__',\n",
              " '__subclasshook__',\n",
              " 'clear',\n",
              " 'copy',\n",
              " 'fromkeys',\n",
              " 'get',\n",
              " 'items',\n",
              " 'keys',\n",
              " 'pop',\n",
              " 'popitem',\n",
              " 'setdefault',\n",
              " 'update',\n",
              " 'values']"
            ]
          },
          "metadata": {},
          "execution_count": 35
        }
      ]
    },
    {
      "cell_type": "markdown",
      "source": [
        "## Exercícios Listas e Dicionários\n"
      ],
      "metadata": {
        "id": "fUM_0RaSzL3m"
      }
    },
    {
      "cell_type": "code",
      "source": [
        "gastos = [2172.54, 3701.35, 3518.09, 3456.61, 3249.38, 2840.82, 3891.45, 3075.26, 2317.64, 3219.08]\n",
        "media = sum(gastos) / len(gastos)\n",
        "print(media)"
      ],
      "metadata": {
        "colab": {
          "base_uri": "https://localhost:8080/"
        },
        "id": "oLsAPpYxxn5v",
        "outputId": "7f49cb2e-84ea-44e2-e3a1-1845ad9bbd0d"
      },
      "execution_count": null,
      "outputs": [
        {
          "output_type": "stream",
          "name": "stdout",
          "text": [
            "3144.222\n"
          ]
        }
      ]
    },
    {
      "cell_type": "code",
      "source": [
        "maior_3000 = 0\n",
        "for i in range(len(gastos)):\n",
        "  if gastos[i] > 3000:\n",
        "    maior_3000 += 1\n",
        "perc_maior_3000 = maior_3000 / len(gastos) * 100\n",
        "print(f'A porcentagem de gastos acima de 3000 é {perc_maior_3000}%')"
      ],
      "metadata": {
        "colab": {
          "base_uri": "https://localhost:8080/"
        },
        "id": "huaaBfwczmNh",
        "outputId": "b46185a0-d946-4023-e839-f95a5f6f2026"
      },
      "execution_count": null,
      "outputs": [
        {
          "output_type": "stream",
          "name": "stdout",
          "text": [
            "A porcentagem de gastos acima de 3000 é 70.0%\n"
          ]
        }
      ]
    },
    {
      "cell_type": "code",
      "source": [
        "#mostra os números em classificação descendente\n",
        "numeros = []\n",
        "while True:\n",
        "  numero = int(input('Digite um número: '))\n",
        "  if numero == 0:\n",
        "    break\n",
        "  numeros.append(numero)\n",
        "numeros.sort(reverse=True)\n",
        "print(numeros)"
      ],
      "metadata": {
        "colab": {
          "base_uri": "https://localhost:8080/"
        },
        "id": "Z4N2Hs__0LPh",
        "outputId": "01f6ba3d-3fc5-4481-e97a-85d8afbcc1eb"
      },
      "execution_count": null,
      "outputs": [
        {
          "output_type": "stream",
          "name": "stdout",
          "text": [
            "Digite um número: 10\n",
            "Digite um número: 20\n",
            "Digite um número: 30\n",
            "Digite um número: 0\n",
            "[30, 20, 10]\n"
          ]
        }
      ]
    },
    {
      "cell_type": "code",
      "source": [
        "#mostra o número na ordem inversa que foram coletados\n",
        "numeros = []\n",
        "while True:\n",
        "  numero = int(input('Digite um número: '))\n",
        "  if numero == 0:\n",
        "    break\n",
        "  numeros.append(numero)\n",
        "#ordem inversa da entrada\n",
        "numeros_inverso = []\n",
        "for i in range(-1,(len(numeros)*-1)-1,-1):\n",
        "  numeros_inverso.append(numeros[i])\n",
        "print(numeros)\n",
        "print(numeros_inverso)"
      ],
      "metadata": {
        "colab": {
          "base_uri": "https://localhost:8080/"
        },
        "id": "m4dxO3fF1VxI",
        "outputId": "7cb02505-02eb-48f2-cff2-9a52b6543209"
      },
      "execution_count": null,
      "outputs": [
        {
          "output_type": "stream",
          "name": "stdout",
          "text": [
            "Digite um número: 13\n",
            "Digite um número: 25\n",
            "Digite um número: 7\n",
            "Digite um número: 5\n",
            "Digite um número: 0\n",
            "[13, 25, 7, 5]\n",
            "[5, 7, 25, 13]\n"
          ]
        }
      ]
    },
    {
      "cell_type": "code",
      "source": [
        "primos = []\n",
        "nr_primos = int(input('Digite até que número quer que mostre os primos'))\n",
        "for i in range(2,nr_primos):\n",
        "  contador = 0\n",
        "  for j in range(2,i):\n",
        "    if i % j == 0:\n",
        "      contador += 1\n",
        "      break\n",
        "  if contador == 0:\n",
        "    primos.append(i)\n",
        "print(primos)\n",
        "\n"
      ],
      "metadata": {
        "colab": {
          "base_uri": "https://localhost:8080/"
        },
        "id": "s8h_DMtb6vor",
        "outputId": "0cf486fc-8bc0-4d62-a9df-ba71b4f5fd3b"
      },
      "execution_count": null,
      "outputs": [
        {
          "output_type": "stream",
          "name": "stdout",
          "text": [
            "Digite até que número quer que mostre os primos100\n",
            "[2, 3, 5, 7, 11, 13, 17, 19, 23, 29, 31, 37, 41, 43, 47, 53, 59, 61, 67, 71, 73, 79, 83, 89, 97]\n"
          ]
        }
      ]
    },
    {
      "cell_type": "code",
      "source": [
        "# prompt: Escreva um programa que peça uma data informando o dia, mês e ano e determine se ela é válida para uma análise.\n",
        "\n",
        "def validar_data(dia, mes, ano):\n",
        "    \"\"\"\n",
        "    Valida uma data informada pelo usuário.\n",
        "\n",
        "    Args:\n",
        "      dia: O dia da data.\n",
        "      mes: O mês da data.\n",
        "      ano: O ano da data.\n",
        "\n",
        "    Returns:\n",
        "      True se a data for válida, False caso contrário.\n",
        "    \"\"\"\n",
        "\n",
        "    # Verificar se o ano é válido (após 1900, por exemplo)\n",
        "    if ano < 1900:\n",
        "        return False\n",
        "\n",
        "    # Verificar se o mês é válido\n",
        "    if not 1 <= mes <= 12:\n",
        "        return False\n",
        "\n",
        "    # Verificar se o dia é válido com base no mês e no ano\n",
        "    dias_no_mes = [0, 31, 28, 31, 30, 31, 30, 31, 31, 30, 31, 30, 31]\n",
        "    if mes == 2 and ano % 4 == 0 and (ano % 100 != 0 or ano % 400 == 0):\n",
        "        dias_no_mes[2] = 29  # Ano bissexto\n",
        "\n",
        "    if not 1 <= dia <= dias_no_mes[mes]:\n",
        "        return False\n",
        "\n",
        "    return True\n",
        "\n",
        "\n",
        "# Solicitar a data ao usuário\n",
        "dia = int(input(\"Digite o dia: \"))\n",
        "mes = int(input(\"Digite o mês: \"))\n",
        "ano = int(input(\"Digite o ano: \"))\n",
        "\n",
        "# Validar a data\n",
        "if validar_data(dia, mes, ano):\n",
        "    print(f\"Data válida. {dia}/{mes}/{ano}\")\n",
        "else:\n",
        "    print(f\"Data inválida. {dia}/{mes}/{ano}\")"
      ],
      "metadata": {
        "colab": {
          "base_uri": "https://localhost:8080/"
        },
        "id": "I6Z9Lnj58Fxy",
        "outputId": "cb508867-2bdd-40c6-8d5c-062e0c97d1d2"
      },
      "execution_count": null,
      "outputs": [
        {
          "output_type": "stream",
          "name": "stdout",
          "text": [
            "Digite o dia: 31\n",
            "Digite o mês: 02\n",
            "Digite o ano: 2024\n",
            "Data inválida. 31/2/2024\n"
          ]
        }
      ]
    },
    {
      "cell_type": "code",
      "source": [
        "amostra = [1.2, 2.1, 3.3, 5.0, 7.8, 11.3, 16.6, 25.1, 37.8, 56.9]\n",
        "amostra_atual = float(0)\n",
        "amostra_passada = float(0)\n",
        "for i in range(len(amostra)):\n",
        "  if i == 0:\n",
        "    amostra_atual = amostra[i]\n",
        "    print()\n",
        "    continue\n",
        "  else:\n",
        "    amostra_passada = amostra_atual\n",
        "    amostra_atual = amostra[i]\n",
        "  print(f'O crescimento da amostra no dia {i} foi de {(amostra_atual - amostra_passada) / amostra_passada * 100}%')\n"
      ],
      "metadata": {
        "id": "XpqrPFyB-IrK",
        "colab": {
          "base_uri": "https://localhost:8080/"
        },
        "outputId": "a8136171-9d38-4d7c-aa93-52783c211960"
      },
      "execution_count": null,
      "outputs": [
        {
          "output_type": "stream",
          "name": "stdout",
          "text": [
            "\n",
            "1\n",
            "1.2\n",
            "2.1\n",
            "O crescimento da amostra no dia 1 foi de 75.00000000000001%\n",
            "2\n",
            "2.1\n",
            "3.3\n",
            "O crescimento da amostra no dia 2 foi de 57.14285714285713%\n",
            "3\n",
            "3.3\n",
            "5.0\n",
            "O crescimento da amostra no dia 3 foi de 51.51515151515152%\n",
            "4\n",
            "5.0\n",
            "7.8\n",
            "O crescimento da amostra no dia 4 foi de 55.99999999999999%\n",
            "5\n",
            "7.8\n",
            "11.3\n",
            "O crescimento da amostra no dia 5 foi de 44.87179487179488%\n",
            "6\n",
            "11.3\n",
            "16.6\n",
            "O crescimento da amostra no dia 6 foi de 46.902654867256636%\n",
            "7\n",
            "16.6\n",
            "25.1\n",
            "O crescimento da amostra no dia 7 foi de 51.20481927710843%\n",
            "8\n",
            "25.1\n",
            "37.8\n",
            "O crescimento da amostra no dia 8 foi de 50.59760956175297%\n",
            "9\n",
            "37.8\n",
            "56.9\n",
            "O crescimento da amostra no dia 9 foi de 50.52910052910053%\n"
          ]
        }
      ]
    },
    {
      "cell_type": "code",
      "source": [
        "IDS = []\n",
        "par = 0\n",
        "impar = 0\n",
        "for i in range(1,11):\n",
        "  ID = int(input('Digite o ID do produto: '))\n",
        "  IDS.append(ID)\n",
        "  if ID % 2 == 0:\n",
        "    par += 1\n",
        "  else:\n",
        "    impar += 1\n",
        "print(f'A quantidade de produtos doces é {par}')\n",
        "print(f'A quantidade de números amargos é {impar}')\n",
        "\n",
        "print(IDS)"
      ],
      "metadata": {
        "colab": {
          "base_uri": "https://localhost:8080/"
        },
        "id": "rvUxdHGNGKKG",
        "outputId": "d90212ff-3b0d-4df6-e153-e4f11e2ff292"
      },
      "execution_count": null,
      "outputs": [
        {
          "output_type": "stream",
          "name": "stdout",
          "text": [
            "Digite o ID do produto: 1\n",
            "Digite o ID do produto: 5\n",
            "Digite o ID do produto: 7\n",
            "Digite o ID do produto: 10\n",
            "Digite o ID do produto: 20\n",
            "Digite o ID do produto: 30\n",
            "Digite o ID do produto: 40\n",
            "Digite o ID do produto: 50\n",
            "Digite o ID do produto: 60\n",
            "Digite o ID do produto: 70\n",
            "A quantidade de produtos doces é 7\n",
            "A quantidade de números amargos é 3\n",
            "[1, 5, 7, 10, 20, 30, 40, 50, 60, 70]\n"
          ]
        }
      ]
    },
    {
      "cell_type": "code",
      "source": [
        "gabarito = {1:'D',2:'A',3:'C',4:'B',5:'A',6:'D',7:'C',8:'C',9:'A',10:'B'}\n",
        "nota = 0\n",
        "print(gabarito)\n",
        "for i in gabarito:\n",
        "  resposta = input('Digite a resposta: ')\n",
        "  if resposta.upper() == gabarito[i]:\n",
        "    nota += 1\n",
        "print(f'A nota do aluno foi {nota}')\n"
      ],
      "metadata": {
        "colab": {
          "base_uri": "https://localhost:8080/"
        },
        "id": "LjUJoMjLDv5Z",
        "outputId": "06b8364f-d228-4267-ee13-4c4ed151d97e"
      },
      "execution_count": null,
      "outputs": [
        {
          "output_type": "stream",
          "name": "stdout",
          "text": [
            "{1: 'D', 2: 'A', 3: 'C', 4: 'B', 5: 'A', 6: 'D', 7: 'C', 8: 'C', 9: 'A', 10: 'B'}\n",
            "Digite a resposta: D\n",
            "Digite a resposta: a\n",
            "Digite a resposta: c\n",
            "Digite a resposta: b\n",
            "Digite a resposta: a\n",
            "Digite a resposta: d\n",
            "Digite a resposta: c\n",
            "Digite a resposta: c\n",
            "Digite a resposta: a\n",
            "Digite a resposta: b\n",
            "A nota do aluno foi 10\n"
          ]
        }
      ]
    },
    {
      "cell_type": "code",
      "source": [
        "temperatura = []\n",
        "meses = ['Janeiro', 'Fevereiro', 'Março', 'Abril', 'Maio', 'Junho', 'Julho', 'Agosto', 'Setembro', 'Outubro', 'Novembro', 'Dezembro']\n",
        "for i in range(12):\n",
        "  temperatura.append(float(input(f'Digite a temperatura média do mês de {meses[i]}: ')))\n",
        "media_temperatura = sum(temperatura) / len(temperatura)\n",
        "for i in range(12):\n",
        "  print(f'Em {meses[i]} a temperatura média foi {temperatura[i]}')\n",
        "print(f'A média anual de temperatura foi de {media_temperatura}')\n"
      ],
      "metadata": {
        "colab": {
          "base_uri": "https://localhost:8080/"
        },
        "id": "51R9Qe42NB3p",
        "outputId": "01ee3b18-6cd3-42a9-f456-0fbe1f844652"
      },
      "execution_count": null,
      "outputs": [
        {
          "output_type": "stream",
          "name": "stdout",
          "text": [
            "Digite a temperatura média do mês de Janeiro: 30.3\n",
            "Digite a temperatura média do mês de Fevereiro: 31.4\n",
            "Digite a temperatura média do mês de Março: 25.7\n",
            "Digite a temperatura média do mês de Abril: 24\n",
            "Digite a temperatura média do mês de Maio: 23.8\n",
            "Digite a temperatura média do mês de Junho: 15.7\n",
            "Digite a temperatura média do mês de Julho: 16.8\n",
            "Digite a temperatura média do mês de Agosto: 19.5\n",
            "Digite a temperatura média do mês de Setembro: 20.7\n",
            "Digite a temperatura média do mês de Outubro: 21.6\n",
            "Digite a temperatura média do mês de Novembro: 27.1\n",
            "Digite a temperatura média do mês de Dezembro: 35.4\n",
            "Em [meses] a temperatura média foi {temperatura}\n",
            "Em [meses] a temperatura média foi {temperatura}\n",
            "Em [meses] a temperatura média foi {temperatura}\n",
            "Em [meses] a temperatura média foi {temperatura}\n",
            "Em [meses] a temperatura média foi {temperatura}\n",
            "Em [meses] a temperatura média foi {temperatura}\n",
            "Em [meses] a temperatura média foi {temperatura}\n",
            "Em [meses] a temperatura média foi {temperatura}\n",
            "Em [meses] a temperatura média foi {temperatura}\n",
            "Em [meses] a temperatura média foi {temperatura}\n",
            "Em [meses] a temperatura média foi {temperatura}\n",
            "Em [meses] a temperatura média foi {temperatura}\n",
            "A média anual de temperatura foi de 24.333333333333332\n"
          ]
        }
      ]
    },
    {
      "cell_type": "code",
      "source": [
        "for i in range(12):\n",
        "  print(f'Em {meses[i]} a temperatura média foi {temperatura[i]}')\n",
        "print(f'A média anual de temperatura foi de {media_temperatura}')"
      ],
      "metadata": {
        "colab": {
          "base_uri": "https://localhost:8080/"
        },
        "id": "nRvvp_JiPHHg",
        "outputId": "239c58ea-075e-47c9-83a1-da6b53bf4577"
      },
      "execution_count": null,
      "outputs": [
        {
          "output_type": "stream",
          "name": "stdout",
          "text": [
            "Em Janeiro a temperatura média foi 30.3\n",
            "Em Fevereiro a temperatura média foi 31.4\n",
            "Em Março a temperatura média foi 25.7\n",
            "Em Abril a temperatura média foi 24.0\n",
            "Em Maio a temperatura média foi 23.8\n",
            "Em Junho a temperatura média foi 15.7\n",
            "Em Julho a temperatura média foi 16.8\n",
            "Em Agosto a temperatura média foi 19.5\n",
            "Em Setembro a temperatura média foi 20.7\n",
            "Em Outubro a temperatura média foi 21.6\n",
            "Em Novembro a temperatura média foi 27.1\n",
            "Em Dezembro a temperatura média foi 35.4\n",
            "A média anual de temperatura foi de 24.333333333333332\n"
          ]
        }
      ]
    },
    {
      "cell_type": "code",
      "source": [
        "vendas = {'Produto A': 300,\n",
        "          'Produto B': 80,\n",
        "          'Produto C': 60,\n",
        "          'Produto D': 200,\n",
        "          'Produto E': 550,\n",
        "          'Produto F': 30}\n",
        "produto = ' '\n",
        "venda = 0\n",
        "for i in vendas:\n",
        "  if vendas[i] > venda:\n",
        "    venda = vendas[i]\n",
        "    produto = i\n",
        "    print(produto)\n",
        "print(f'O produto mais vendido foi {produto} com {venda} vendas')"
      ],
      "metadata": {
        "colab": {
          "base_uri": "https://localhost:8080/"
        },
        "id": "0e5S77XuPczY",
        "outputId": "0c32ee6f-c910-468c-a0fa-3df57a19d015"
      },
      "execution_count": null,
      "outputs": [
        {
          "output_type": "stream",
          "name": "stdout",
          "text": [
            "Produto A\n",
            "Produto E\n",
            "O produto mais vendido foi Produto E com 550 vendas\n"
          ]
        }
      ]
    },
    {
      "cell_type": "code",
      "source": [
        "designs = {'Design 1': 1334,\n",
        "           'Design 2': 982,\n",
        "           'Design 3': 1751,\n",
        "           'Design 4' : 210,\n",
        "           'Design 5' : 1811}\n",
        "votos = 0\n",
        "acum_votos = 0\n",
        "for i in designs:\n",
        "  acum_votos += designs[i]\n",
        "  if designs[i] > votos:\n",
        "    votos = designs[i]\n",
        "    design = i\n",
        "print(f'O design vencedor foi {design} com {votos} votos, equivalente a {votos / acum_votos * 100}% dos votos')\n",
        "\n",
        "\n"
      ],
      "metadata": {
        "colab": {
          "base_uri": "https://localhost:8080/"
        },
        "id": "1vP28szHQjCG",
        "outputId": "bccd93da-f5e6-4ca4-d581-f24e2eb17517"
      },
      "execution_count": null,
      "outputs": [
        {
          "output_type": "stream",
          "name": "stdout",
          "text": [
            "O design vencedor foi Design 5 com 1811 votos, equivalente a 29.747043363994745% dos votos\n"
          ]
        }
      ]
    },
    {
      "cell_type": "code",
      "source": [
        "abonos = {1172:0, 1644:0, 2617:0, 5130:0, 5532:0, 6341:0, 6650:0, 7238:0, 7685:0, 7782:0, 7903:0}\n",
        "total_gastos = 0\n",
        "contador200 = 0\n",
        "maior_abono = 0\n",
        "for i in abonos:\n",
        "  abonos[i] = i*0.1\n",
        "  if abonos[i] < 200:\n",
        "    abonos[i] = 200\n",
        "    contador200 += 1\n",
        "  total_gastos += abonos[i]\n",
        "  if abonos[i] > maior_abono:\n",
        "    maior_abono = abonos[i]\n",
        "print(abonos)\n",
        "print(f'O total de gastos foi de {total_gastos}')\n",
        "print(f'O total de abonos no valor de R$200 foi {contador200}')\n",
        "print(f'O maior abono foi de {maior_abono}')\n",
        "\n",
        "\n"
      ],
      "metadata": {
        "colab": {
          "base_uri": "https://localhost:8080/"
        },
        "id": "FXCY7_AUUJIJ",
        "outputId": "7bc46a68-6ff2-4fec-aa2e-49e21e455f8b"
      },
      "execution_count": null,
      "outputs": [
        {
          "output_type": "stream",
          "name": "stdout",
          "text": [
            "{1172: 200, 1644: 200, 2617: 261.7, 5130: 513.0, 5532: 553.2, 6341: 634.1, 6650: 665.0, 7238: 723.8000000000001, 7685: 768.5, 7782: 778.2, 7903: 790.3000000000001}\n",
            "O total de gastos foi de 6087.8\n",
            "O total de abonos no valor de R$200 foi 2\n",
            "O maior abono foi de 790.3000000000001\n"
          ]
        }
      ]
    },
    {
      "cell_type": "code",
      "source": [
        "#area, plantas, animais\n",
        "especies_area = {'Área Norte': [2819, 7236],\n",
        "                 'Área Leste': [1440, 9492],\n",
        "                 'Área Sul': [5969, 7496],\n",
        "                 'Área Oeste': [14446, 49688],\n",
        "                 'Área Centro': [22558, 45148]}\n",
        "total_especies_area = 0\n",
        "for i in especies_area:\n",
        "  if especies_area[i][0] + especies_area[i][1] > total_especies_area:\n",
        "    total_especies_area = especies_area[i][0] + especies_area[i][1]\n",
        "    area = i\n",
        "  print(f'A média de espécies da área {i} é {(especies_area[i][0] + especies_area[i][1]) / 2}')\n",
        "print(f'A área com maior diversidade ecológica é {area}, com {total_especies_area} espécies')"
      ],
      "metadata": {
        "colab": {
          "base_uri": "https://localhost:8080/"
        },
        "id": "T7U3kbiXYpnd",
        "outputId": "6a1037fc-ac6c-4eb3-a540-4bff47f0613b"
      },
      "execution_count": null,
      "outputs": [
        {
          "output_type": "stream",
          "name": "stdout",
          "text": [
            "A média de espécies da área Área Norte é 5027.5\n",
            "A média de espécies da área Área Leste é 5466.0\n",
            "A média de espécies da área Área Sul é 6732.5\n",
            "A média de espécies da área Área Oeste é 32067.0\n",
            "A média de espécies da área Área Centro é 33853.0\n",
            "A área com maior diversidade ecológica é Área Centro, com 67706\n"
          ]
        }
      ]
    },
    {
      "cell_type": "code",
      "source": [
        "idade_colaboradores = {'Setor A': [22, 26, 30, 30, 35, 38, 40, 56, 57, 65],\n",
        "                       'Setor B': [22, 24, 26, 33, 41, 49, 50, 54, 60, 64],\n",
        "                       'Setor C': [23, 26, 26, 29, 34, 35, 36, 41, 52, 56],\n",
        "                       'Setor D': [19, 20, 25, 27, 34, 39, 42, 44, 50, 65]}\n",
        "total_idade = 0\n",
        "total_colaboradores = 0\n",
        "acima_media = 0\n",
        "for i in idade_colaboradores:\n",
        "  print(f'A média de idade do setor {i} é {sum(idade_colaboradores[i]) / len(idade_colaboradores[i])}')\n",
        "  total_idade += sum(idade_colaboradores[i])\n",
        "  total_colaboradores += len(idade_colaboradores[i])\n",
        "print(f'A média de idade de todos os colaboradores é {total_idade / total_colaboradores}')\n",
        "for i in idade_colaboradores:\n",
        "  for j in range(len(idade_colaboradores[i])):\n",
        "    if idade_colaboradores[i][j] > total_idade / total_colaboradores:\n",
        "      acima_media += 1\n",
        "print(f'A quantidade de colaboradores acima da média de idade é {acima_media}')\n"
      ],
      "metadata": {
        "colab": {
          "base_uri": "https://localhost:8080/"
        },
        "id": "TyZC_M9qQkVd",
        "outputId": "72ede302-a408-4de1-f953-ddbe920aea17"
      },
      "execution_count": null,
      "outputs": [
        {
          "output_type": "stream",
          "name": "stdout",
          "text": [
            "A média de idade do setor Setor A é 39.9\n",
            "A média de idade do setor Setor B é 42.3\n",
            "A média de idade do setor Setor C é 35.8\n",
            "A média de idade do setor Setor D é 36.5\n",
            "A média de idade de todos os colaboradores é 38.625\n",
            "A quantidade de colaboradores acima da média de idade é 18\n"
          ]
        }
      ]
    },
    {
      "cell_type": "code",
      "source": [
        "# prompt: 15) O setor de RH da sua empresa te pediu uma ajuda para analisar as idades de colaboradores(as) de 4 setores da empresa. Para isso, foram fornecidos os seguintes dados:\n",
        "# {'Setor A': [22, 26, 30, 30, 35, 38, 40, 56, 57, 65],\n",
        "#  'Setor B': [22, 24, 26, 33, 41, 49, 50, 54, 60, 64],\n",
        "#  'Setor C': [23, 26, 26, 29, 34, 35, 36, 41, 52, 56],\n",
        "#  'Setor D': [19, 20, 25, 27, 34, 39, 42, 44, 50, 65]}\n",
        "# Sabendo que cada setor tem 10 colaboradores(as), construa um código que calcule a média de idade de cada setor, a idade média geral entre todos os setores e quantas pessoas estão acima da idade média geral.\n",
        "\n",
        "idade_colaboradores = {'Setor A': [22, 26, 30, 30, 35, 38, 40, 56, 57, 65],\n",
        "                       'Setor B': [22, 24, 26, 33, 41, 49, 50, 54, 60, 64],\n",
        "                       'Setor C': [23, 26, 26, 29, 34, 35, 36, 41, 52, 56],\n",
        "                       'Setor D': [19, 20, 25, 27, 34, 39, 42, 44, 50, 65]}\n",
        "\n",
        "total_idade = 0\n",
        "total_colaboradores = 0\n",
        "acima_media = 0\n",
        "\n",
        "for setor, idades in idade_colaboradores.items():\n",
        "  media_setor = sum(idades) / len(idades)\n",
        "  print(f'A média de idade do setor {setor} é {media_setor}')\n",
        "  total_idade += sum(idades)\n",
        "  total_colaboradores += len(idades)\n",
        "\n",
        "media_geral = total_idade / total_colaboradores\n",
        "print(f'A média de idade de todos os colaboradores é {media_geral}')\n",
        "\n",
        "for setor, idades in idade_colaboradores.items():\n",
        "  for idade in idades:\n",
        "    if idade > media_geral:\n",
        "      acima_media += 1\n",
        "\n",
        "print(f'A quantidade de colaboradores acima da média de idade é {acima_media}')"
      ],
      "metadata": {
        "colab": {
          "base_uri": "https://localhost:8080/"
        },
        "id": "_VTTjWsafRwF",
        "outputId": "46a91b9d-95e7-4f98-e40f-ab77615bf838"
      },
      "execution_count": null,
      "outputs": [
        {
          "output_type": "stream",
          "name": "stdout",
          "text": [
            "A média de idade do setor Setor A é 39.9\n",
            "A média de idade do setor Setor B é 42.3\n",
            "A média de idade do setor Setor C é 35.8\n",
            "A média de idade do setor Setor D é 36.5\n",
            "A média de idade de todos os colaboradores é 38.625\n",
            "A quantidade de colaboradores acima da média de idade é 18\n"
          ]
        }
      ]
    },
    {
      "cell_type": "markdown",
      "source": [
        "# NUMPY"
      ],
      "metadata": {
        "id": "Vl98l-OOkRDD"
      }
    },
    {
      "cell_type": "code",
      "source": [
        "\n",
        "#sempre importar numpy as np\n",
        "import numpy as np"
      ],
      "metadata": {
        "id": "AS4eBFcGkVSr"
      },
      "execution_count": 1,
      "outputs": []
    },
    {
      "cell_type": "code",
      "source": [
        "#antes de carregar o arquivo como url, carregar no github na pasta Dados\n",
        "url = 'https://raw.githubusercontent.com/maarantesfazenda/python_datascience_alura/refs/heads/main/Dados/apples_ts.csv'"
      ],
      "metadata": {
        "id": "3m5vTOoAwYjo"
      },
      "execution_count": 2,
      "outputs": []
    },
    {
      "cell_type": "code",
      "source": [
        "dado = np.loadtxt(url, delimiter=',',usecols=np.arange(1,88,1))"
      ],
      "metadata": {
        "id": "kcLM0IVbmW3N"
      },
      "execution_count": 3,
      "outputs": []
    },
    {
      "cell_type": "code",
      "source": [],
      "metadata": {
        "id": "TxJcLy1Eoka5"
      },
      "execution_count": null,
      "outputs": []
    },
    {
      "cell_type": "code",
      "source": [
        "np.arange(1,88,1)"
      ],
      "metadata": {
        "colab": {
          "base_uri": "https://localhost:8080/"
        },
        "id": "I83PiNKqxHCG",
        "outputId": "59eb6fcf-a995-47fc-f90e-907b4aacc40c"
      },
      "execution_count": null,
      "outputs": [
        {
          "output_type": "execute_result",
          "data": {
            "text/plain": [
              "array([ 1,  2,  3,  4,  5,  6,  7,  8,  9, 10, 11, 12, 13, 14, 15, 16, 17,\n",
              "       18, 19, 20, 21, 22, 23, 24, 25, 26, 27, 28, 29, 30, 31, 32, 33, 34,\n",
              "       35, 36, 37, 38, 39, 40, 41, 42, 43, 44, 45, 46, 47, 48, 49, 50, 51,\n",
              "       52, 53, 54, 55, 56, 57, 58, 59, 60, 61, 62, 63, 64, 65, 66, 67, 68,\n",
              "       69, 70, 71, 72, 73, 74, 75, 76, 77, 78, 79, 80, 81, 82, 83, 84, 85,\n",
              "       86, 87])"
            ]
          },
          "metadata": {},
          "execution_count": 52
        }
      ]
    },
    {
      "cell_type": "code",
      "source": [
        "dado\n"
      ],
      "metadata": {
        "id": "hSc8Wvhn413G",
        "outputId": "85ff08df-ad2b-438c-beea-aabbac176a8b",
        "colab": {
          "base_uri": "https://localhost:8080/"
        }
      },
      "execution_count": 4,
      "outputs": [
        {
          "output_type": "execute_result",
          "data": {
            "text/plain": [
              "array([[  1.2013,   2.2013,   3.2013,   4.2013,   5.2013,   6.2013,\n",
              "          7.2013,   8.2013,   9.2013,  10.2013,  11.2013,  12.2013,\n",
              "          1.2014,   2.2014,   3.2014,   4.2014,   5.2014,   6.2014,\n",
              "          7.2014,   8.2014,   9.2014,  10.2014,  11.2014,  12.2014,\n",
              "          1.2015,   2.2015,   3.2015,   4.2015,   5.2015,   6.2015,\n",
              "          7.2015,   8.2015,   9.2015,  10.2015,  11.2015,  12.2015,\n",
              "          1.2016,   2.2016,   3.2016,   4.2016,   5.2016,   6.2016,\n",
              "          7.2016,   8.2016,   9.2016,  10.2016,  11.2016,  12.2016,\n",
              "          1.2017,   2.2017,   3.2017,   4.2017,   5.2017,   6.2017,\n",
              "          7.2017,   8.2017,   9.2017,  10.2017,  11.2017,  12.2017,\n",
              "          1.2018,   2.2018,   3.2018,   4.2018,   5.2018,   6.2018,\n",
              "          7.2018,   8.2018,   9.2018,  10.2018,  11.2018,  12.2018,\n",
              "          1.2019,   2.2019,   3.2019,   4.2019,   5.2019,   6.2019,\n",
              "          7.2019,   8.2019,   9.2019,  10.2019,  11.2019,  12.2019,\n",
              "          1.202 ,   2.202 ,   3.202 ],\n",
              "       [ 79.72  ,  81.08  ,  79.68  ,  79.8   ,  80.63  ,  80.8   ,\n",
              "         80.28  ,  78.99  ,  76.77  ,  76.09  ,  76.36  ,  77.16  ,\n",
              "         77.5   ,  79.03  ,  80.28  ,  80.05  ,  78.11  ,  76.9   ,\n",
              "         77.68  ,  76.05  ,  75.53  ,  73.39  ,  78.36  ,  89.16  ,\n",
              "        105.43  , 104.82  , 101.15  ,  98.63  ,  99.96  ,  97.29  ,\n",
              "         98.64  , 104.26  , 102.63  ,  98.64  ,  97.17  ,  98.09  ,\n",
              "        103.07  , 110.26  , 110.84  , 112.28  , 111.1   , 110.06  ,\n",
              "        113.7   , 112.88  , 102.08  ,  95.54  ,  91.33  ,  89.99  ,\n",
              "         91.44  ,  93.51  ,  93.6   ,  93.78  ,  98.91  , 121.76  ,\n",
              "        129.6   , 127.9   , 114.55  , 101.88  ,  99.09  , 103.35  ,\n",
              "        106.58  , 108.    , 114.95  , 121.17  , 122.48  , 127.58  ,\n",
              "        131.89  , 129.36  , 104.26  ,  93.45  ,  92.93  ,  96.15  ,\n",
              "         99.1   , 103.    , 103.31  , 103.01  , 107.37  , 116.91  ,\n",
              "        125.29  , 123.94  , 113.03  , 102.19  ,  97.83  , 101.07  ,\n",
              "        103.44  , 108.23  , 110.28  ],\n",
              "       [ 42.67  ,  44.37  ,  44.73  ,  46.75  ,      nan,  51.59  ,\n",
              "         57.8   ,  62.14  ,  56.76  ,  50.85  ,  46.43  ,  46.73  ,\n",
              "         45.85  ,  49.25  ,  48.14  ,  49.18  ,  49.49  ,  49.83  ,\n",
              "         49.14  ,  63.21  ,  61.2   ,  60.34  ,  62.2   ,  74.2   ,\n",
              "         75.32  ,  75.92  ,  72.89  ,  74.85  ,  92.19  ,  99.7   ,\n",
              "        102.78  ,  92.67  ,  90.63  ,  83.31  ,  75.5   ,  74.6   ,\n",
              "         76.94  ,  83.04  ,  80.74  ,  80.29  ,  82.82  ,  86.29  ,\n",
              "         87.41  ,  85.1   ,  78.08  ,  76.06  ,  69.23  ,  69.04  ,\n",
              "         64.48  ,  65.73  ,  67.2   ,  70.25  ,  82.59  ,  92.12  ,\n",
              "        100.82  ,  95.23  ,  89.51  ,  82.84  ,  82.3   ,  83.76  ,\n",
              "         84.72  ,  83.91  ,  99.14  , 101.6   , 113.03  , 119.54  ,\n",
              "        118.09  , 107.32  ,  82.6   ,  77.4   ,  71.77  ,  71.25  ,\n",
              "         71.35  ,  73.62  ,  76.2   ,  74.15  ,  75.67  ,  79.2   ,\n",
              "         80.85  ,  85.33  ,  75.02  ,  77.95  ,  78.98  ,  76.55  ,\n",
              "         74.89  ,  70.    ,  81.53  ],\n",
              "       [ 62.55  ,  62.73  ,  63.43  ,  63.83  ,  66.06  ,  69.22  ,\n",
              "         72.07  ,  69.31  ,  65.18  ,  62.13  ,  64.17  ,  65.5   ,\n",
              "         66.85  ,  68.38  ,  68.77  ,  69.32  ,  69.77  ,  70.17  ,\n",
              "         70.76  ,  75.16  ,  74.86  ,  71.47  ,  76.08  ,  82.11  ,\n",
              "         94.63  ,  98.54  ,  97.84  ,  94.54  ,  97.88  ,  97.73  ,\n",
              "        100.89  , 104.88  , 104.39  , 101.9   ,  98.99  ,  99.42  ,\n",
              "        106.37  , 113.89  , 114.78  , 115.6   , 115.89  , 117.66  ,\n",
              "        118.27  , 114.19  , 101.81  ,  91.62  ,  90.15  ,  90.55  ,\n",
              "         92.3   ,  91.75  ,  92.    ,  92.57  , 100.28  , 114.33  ,\n",
              "        122.17  , 117.83  , 112.49  ,  93.7   ,  97.17  ,  95.64  ,\n",
              "        102.21  , 107.58  , 110.48  , 117.73  , 122.07  , 128.58  ,\n",
              "        131.12  , 127.08  , 110.99  ,  97.43  ,  92.05  ,  93.21  ,\n",
              "         98.58  , 100.23  , 102.09  , 101.73  , 107.28  , 115.35  ,\n",
              "        123.03  , 123.08  , 109.71  ,  97.22  ,  95.75  ,  97.09  ,\n",
              "         98.18  , 103.1   , 110.6   ],\n",
              "       [ 48.26  ,  51.01  ,  50.91  ,  53.94  ,  61.27  ,  65.44  ,\n",
              "         56.51  ,  53.    ,  43.87  ,  42.12  ,  43.98  ,  44.66  ,\n",
              "         47.73  ,  52.31  ,  56.8   ,  51.15  ,  54.63  ,  55.8   ,\n",
              "         57.31  ,  53.81  ,  55.5   ,  52.95  ,  53.29  ,  54.86  ,\n",
              "         71.72  ,  74.36  ,  78.25  ,  70.63  ,  77.06  ,  81.52  ,\n",
              "         84.12  ,  83.33  ,  66.98  ,  62.04  ,  59.79  ,  66.06  ,\n",
              "         71.99  ,  76.79  ,  80.98  ,  89.18  ,  92.71  ,  94.85  ,\n",
              "         99.18  ,  86.33  ,  71.94  ,  67.18  ,  62.98  ,  69.45  ,\n",
              "         67.56  ,  67.92  ,  68.4   ,  67.97  ,  76.33  ,  95.79  ,\n",
              "        112.36  ,  82.03  ,  73.83  ,  66.12  ,  63.24  ,  63.98  ,\n",
              "         69.1   ,  70.04  ,  80.03  ,  87.92  ,  97.07  , 106.52  ,\n",
              "        108.93  ,  95.17  ,  74.31  ,  62.63  ,  69.92  ,  70.58  ,\n",
              "         74.63  ,  78.69  ,  81.82  ,  82.36  ,  89.44  , 102.01  ,\n",
              "        116.12  ,  92.06  ,  82.7   ,  66.62  ,  68.11  ,  73.48  ,\n",
              "         82.04  ,  81.19  ,  95.05  ],\n",
              "       [ 71.25  ,  71.35  ,  70.9   ,  71.92  ,  72.91  ,  74.39  ,\n",
              "         73.1   ,  70.24  ,  69.12  ,  68.98  ,  68.58  ,  69.5   ,\n",
              "         70.14  ,  70.58  ,  70.78  ,  72.78  ,  72.84  ,  74.74  ,\n",
              "         76.43  ,  81.2   ,  82.04  ,  79.67  ,  81.25  ,  85.88  ,\n",
              "         91.35  , 101.32  , 102.45  ,  98.18  , 105.1   , 104.85  ,\n",
              "        111.48  , 118.51  , 118.92  , 109.87  , 105.22  , 105.45  ,\n",
              "        115.61  , 116.61  , 120.39  , 119.2   , 119.92  , 120.57  ,\n",
              "        123.37  , 121.39  , 118.16  , 108.84  , 100.78  ,  99.92  ,\n",
              "        100.65  ,  98.92  , 100.31  ,  96.41  , 101.24  , 118.7   ,\n",
              "        133.29  , 130.31  , 122.4   , 104.98  , 107.54  , 110.74  ,\n",
              "        110.51  , 111.46  , 113.42  , 118.15  , 114.    , 124.91  ,\n",
              "        126.06  , 123.3   , 111.61  ,  98.82  ,  97.47  , 103.01  ,\n",
              "        109.36  , 104.79  , 105.09  , 103.16  , 106.52  , 121.68  ,\n",
              "        125.32  , 123.41  , 108.48  ,  98.73  ,  96.25  , 100.12  ,\n",
              "        101.29  , 102.81  , 108.53  ]])"
            ]
          },
          "metadata": {},
          "execution_count": 4
        }
      ]
    },
    {
      "cell_type": "code",
      "source": [
        " dado.ndim\n",
        ""
      ],
      "metadata": {
        "id": "woyzVQ8JiKc2",
        "outputId": "0feef93d-1292-4588-bd9a-f4071a06b933",
        "colab": {
          "base_uri": "https://localhost:8080/"
        }
      },
      "execution_count": 5,
      "outputs": [
        {
          "output_type": "execute_result",
          "data": {
            "text/plain": [
              "2"
            ]
          },
          "metadata": {},
          "execution_count": 5
        }
      ]
    },
    {
      "cell_type": "code",
      "source": [
        "dado.size"
      ],
      "metadata": {
        "id": "a9icSqE2ipgV",
        "outputId": "c0d4268c-67e5-4650-a133-a808f711d65c",
        "colab": {
          "base_uri": "https://localhost:8080/"
        }
      },
      "execution_count": 7,
      "outputs": [
        {
          "output_type": "execute_result",
          "data": {
            "text/plain": [
              "522"
            ]
          },
          "metadata": {},
          "execution_count": 7
        }
      ]
    },
    {
      "cell_type": "code",
      "source": [
        "dado.T"
      ],
      "metadata": {
        "id": "vZTW9s4kixcc",
        "outputId": "5a520d79-d096-4a5a-da8b-14e7219b940d",
        "colab": {
          "base_uri": "https://localhost:8080/"
        }
      },
      "execution_count": 8,
      "outputs": [
        {
          "output_type": "execute_result",
          "data": {
            "text/plain": [
              "array([[  1.2013,  79.72  ,  42.67  ,  62.55  ,  48.26  ,  71.25  ],\n",
              "       [  2.2013,  81.08  ,  44.37  ,  62.73  ,  51.01  ,  71.35  ],\n",
              "       [  3.2013,  79.68  ,  44.73  ,  63.43  ,  50.91  ,  70.9   ],\n",
              "       [  4.2013,  79.8   ,  46.75  ,  63.83  ,  53.94  ,  71.92  ],\n",
              "       [  5.2013,  80.63  ,      nan,  66.06  ,  61.27  ,  72.91  ],\n",
              "       [  6.2013,  80.8   ,  51.59  ,  69.22  ,  65.44  ,  74.39  ],\n",
              "       [  7.2013,  80.28  ,  57.8   ,  72.07  ,  56.51  ,  73.1   ],\n",
              "       [  8.2013,  78.99  ,  62.14  ,  69.31  ,  53.    ,  70.24  ],\n",
              "       [  9.2013,  76.77  ,  56.76  ,  65.18  ,  43.87  ,  69.12  ],\n",
              "       [ 10.2013,  76.09  ,  50.85  ,  62.13  ,  42.12  ,  68.98  ],\n",
              "       [ 11.2013,  76.36  ,  46.43  ,  64.17  ,  43.98  ,  68.58  ],\n",
              "       [ 12.2013,  77.16  ,  46.73  ,  65.5   ,  44.66  ,  69.5   ],\n",
              "       [  1.2014,  77.5   ,  45.85  ,  66.85  ,  47.73  ,  70.14  ],\n",
              "       [  2.2014,  79.03  ,  49.25  ,  68.38  ,  52.31  ,  70.58  ],\n",
              "       [  3.2014,  80.28  ,  48.14  ,  68.77  ,  56.8   ,  70.78  ],\n",
              "       [  4.2014,  80.05  ,  49.18  ,  69.32  ,  51.15  ,  72.78  ],\n",
              "       [  5.2014,  78.11  ,  49.49  ,  69.77  ,  54.63  ,  72.84  ],\n",
              "       [  6.2014,  76.9   ,  49.83  ,  70.17  ,  55.8   ,  74.74  ],\n",
              "       [  7.2014,  77.68  ,  49.14  ,  70.76  ,  57.31  ,  76.43  ],\n",
              "       [  8.2014,  76.05  ,  63.21  ,  75.16  ,  53.81  ,  81.2   ],\n",
              "       [  9.2014,  75.53  ,  61.2   ,  74.86  ,  55.5   ,  82.04  ],\n",
              "       [ 10.2014,  73.39  ,  60.34  ,  71.47  ,  52.95  ,  79.67  ],\n",
              "       [ 11.2014,  78.36  ,  62.2   ,  76.08  ,  53.29  ,  81.25  ],\n",
              "       [ 12.2014,  89.16  ,  74.2   ,  82.11  ,  54.86  ,  85.88  ],\n",
              "       [  1.2015, 105.43  ,  75.32  ,  94.63  ,  71.72  ,  91.35  ],\n",
              "       [  2.2015, 104.82  ,  75.92  ,  98.54  ,  74.36  , 101.32  ],\n",
              "       [  3.2015, 101.15  ,  72.89  ,  97.84  ,  78.25  , 102.45  ],\n",
              "       [  4.2015,  98.63  ,  74.85  ,  94.54  ,  70.63  ,  98.18  ],\n",
              "       [  5.2015,  99.96  ,  92.19  ,  97.88  ,  77.06  , 105.1   ],\n",
              "       [  6.2015,  97.29  ,  99.7   ,  97.73  ,  81.52  , 104.85  ],\n",
              "       [  7.2015,  98.64  , 102.78  , 100.89  ,  84.12  , 111.48  ],\n",
              "       [  8.2015, 104.26  ,  92.67  , 104.88  ,  83.33  , 118.51  ],\n",
              "       [  9.2015, 102.63  ,  90.63  , 104.39  ,  66.98  , 118.92  ],\n",
              "       [ 10.2015,  98.64  ,  83.31  , 101.9   ,  62.04  , 109.87  ],\n",
              "       [ 11.2015,  97.17  ,  75.5   ,  98.99  ,  59.79  , 105.22  ],\n",
              "       [ 12.2015,  98.09  ,  74.6   ,  99.42  ,  66.06  , 105.45  ],\n",
              "       [  1.2016, 103.07  ,  76.94  , 106.37  ,  71.99  , 115.61  ],\n",
              "       [  2.2016, 110.26  ,  83.04  , 113.89  ,  76.79  , 116.61  ],\n",
              "       [  3.2016, 110.84  ,  80.74  , 114.78  ,  80.98  , 120.39  ],\n",
              "       [  4.2016, 112.28  ,  80.29  , 115.6   ,  89.18  , 119.2   ],\n",
              "       [  5.2016, 111.1   ,  82.82  , 115.89  ,  92.71  , 119.92  ],\n",
              "       [  6.2016, 110.06  ,  86.29  , 117.66  ,  94.85  , 120.57  ],\n",
              "       [  7.2016, 113.7   ,  87.41  , 118.27  ,  99.18  , 123.37  ],\n",
              "       [  8.2016, 112.88  ,  85.1   , 114.19  ,  86.33  , 121.39  ],\n",
              "       [  9.2016, 102.08  ,  78.08  , 101.81  ,  71.94  , 118.16  ],\n",
              "       [ 10.2016,  95.54  ,  76.06  ,  91.62  ,  67.18  , 108.84  ],\n",
              "       [ 11.2016,  91.33  ,  69.23  ,  90.15  ,  62.98  , 100.78  ],\n",
              "       [ 12.2016,  89.99  ,  69.04  ,  90.55  ,  69.45  ,  99.92  ],\n",
              "       [  1.2017,  91.44  ,  64.48  ,  92.3   ,  67.56  , 100.65  ],\n",
              "       [  2.2017,  93.51  ,  65.73  ,  91.75  ,  67.92  ,  98.92  ],\n",
              "       [  3.2017,  93.6   ,  67.2   ,  92.    ,  68.4   , 100.31  ],\n",
              "       [  4.2017,  93.78  ,  70.25  ,  92.57  ,  67.97  ,  96.41  ],\n",
              "       [  5.2017,  98.91  ,  82.59  , 100.28  ,  76.33  , 101.24  ],\n",
              "       [  6.2017, 121.76  ,  92.12  , 114.33  ,  95.79  , 118.7   ],\n",
              "       [  7.2017, 129.6   , 100.82  , 122.17  , 112.36  , 133.29  ],\n",
              "       [  8.2017, 127.9   ,  95.23  , 117.83  ,  82.03  , 130.31  ],\n",
              "       [  9.2017, 114.55  ,  89.51  , 112.49  ,  73.83  , 122.4   ],\n",
              "       [ 10.2017, 101.88  ,  82.84  ,  93.7   ,  66.12  , 104.98  ],\n",
              "       [ 11.2017,  99.09  ,  82.3   ,  97.17  ,  63.24  , 107.54  ],\n",
              "       [ 12.2017, 103.35  ,  83.76  ,  95.64  ,  63.98  , 110.74  ],\n",
              "       [  1.2018, 106.58  ,  84.72  , 102.21  ,  69.1   , 110.51  ],\n",
              "       [  2.2018, 108.    ,  83.91  , 107.58  ,  70.04  , 111.46  ],\n",
              "       [  3.2018, 114.95  ,  99.14  , 110.48  ,  80.03  , 113.42  ],\n",
              "       [  4.2018, 121.17  , 101.6   , 117.73  ,  87.92  , 118.15  ],\n",
              "       [  5.2018, 122.48  , 113.03  , 122.07  ,  97.07  , 114.    ],\n",
              "       [  6.2018, 127.58  , 119.54  , 128.58  , 106.52  , 124.91  ],\n",
              "       [  7.2018, 131.89  , 118.09  , 131.12  , 108.93  , 126.06  ],\n",
              "       [  8.2018, 129.36  , 107.32  , 127.08  ,  95.17  , 123.3   ],\n",
              "       [  9.2018, 104.26  ,  82.6   , 110.99  ,  74.31  , 111.61  ],\n",
              "       [ 10.2018,  93.45  ,  77.4   ,  97.43  ,  62.63  ,  98.82  ],\n",
              "       [ 11.2018,  92.93  ,  71.77  ,  92.05  ,  69.92  ,  97.47  ],\n",
              "       [ 12.2018,  96.15  ,  71.25  ,  93.21  ,  70.58  , 103.01  ],\n",
              "       [  1.2019,  99.1   ,  71.35  ,  98.58  ,  74.63  , 109.36  ],\n",
              "       [  2.2019, 103.    ,  73.62  , 100.23  ,  78.69  , 104.79  ],\n",
              "       [  3.2019, 103.31  ,  76.2   , 102.09  ,  81.82  , 105.09  ],\n",
              "       [  4.2019, 103.01  ,  74.15  , 101.73  ,  82.36  , 103.16  ],\n",
              "       [  5.2019, 107.37  ,  75.67  , 107.28  ,  89.44  , 106.52  ],\n",
              "       [  6.2019, 116.91  ,  79.2   , 115.35  , 102.01  , 121.68  ],\n",
              "       [  7.2019, 125.29  ,  80.85  , 123.03  , 116.12  , 125.32  ],\n",
              "       [  8.2019, 123.94  ,  85.33  , 123.08  ,  92.06  , 123.41  ],\n",
              "       [  9.2019, 113.03  ,  75.02  , 109.71  ,  82.7   , 108.48  ],\n",
              "       [ 10.2019, 102.19  ,  77.95  ,  97.22  ,  66.62  ,  98.73  ],\n",
              "       [ 11.2019,  97.83  ,  78.98  ,  95.75  ,  68.11  ,  96.25  ],\n",
              "       [ 12.2019, 101.07  ,  76.55  ,  97.09  ,  73.48  , 100.12  ],\n",
              "       [  1.202 , 103.44  ,  74.89  ,  98.18  ,  82.04  , 101.29  ],\n",
              "       [  2.202 , 108.23  ,  70.    , 103.1   ,  81.19  , 102.81  ],\n",
              "       [  3.202 , 110.28  ,  81.53  , 110.6   ,  95.05  , 108.53  ]])"
            ]
          },
          "metadata": {},
          "execution_count": 8
        }
      ]
    },
    {
      "cell_type": "code",
      "source": [
        "dados_transposto = dado.T"
      ],
      "metadata": {
        "id": "ko_yQCT7jV_M"
      },
      "execution_count": 9,
      "outputs": []
    },
    {
      "cell_type": "code",
      "source": [
        " datas = dados_transposto[:,0]\n",
        " datas\n",
        ""
      ],
      "metadata": {
        "id": "UV4nWD7-jlV9",
        "outputId": "9c8bf0f3-b0d3-4765-ab67-e312d3089300",
        "colab": {
          "base_uri": "https://localhost:8080/"
        }
      },
      "execution_count": 13,
      "outputs": [
        {
          "output_type": "execute_result",
          "data": {
            "text/plain": [
              "array([ 1.2013,  2.2013,  3.2013,  4.2013,  5.2013,  6.2013,  7.2013,\n",
              "        8.2013,  9.2013, 10.2013, 11.2013, 12.2013,  1.2014,  2.2014,\n",
              "        3.2014,  4.2014,  5.2014,  6.2014,  7.2014,  8.2014,  9.2014,\n",
              "       10.2014, 11.2014, 12.2014,  1.2015,  2.2015,  3.2015,  4.2015,\n",
              "        5.2015,  6.2015,  7.2015,  8.2015,  9.2015, 10.2015, 11.2015,\n",
              "       12.2015,  1.2016,  2.2016,  3.2016,  4.2016,  5.2016,  6.2016,\n",
              "        7.2016,  8.2016,  9.2016, 10.2016, 11.2016, 12.2016,  1.2017,\n",
              "        2.2017,  3.2017,  4.2017,  5.2017,  6.2017,  7.2017,  8.2017,\n",
              "        9.2017, 10.2017, 11.2017, 12.2017,  1.2018,  2.2018,  3.2018,\n",
              "        4.2018,  5.2018,  6.2018,  7.2018,  8.2018,  9.2018, 10.2018,\n",
              "       11.2018, 12.2018,  1.2019,  2.2019,  3.2019,  4.2019,  5.2019,\n",
              "        6.2019,  7.2019,  8.2019,  9.2019, 10.2019, 11.2019, 12.2019,\n",
              "        1.202 ,  2.202 ,  3.202 ])"
            ]
          },
          "metadata": {},
          "execution_count": 13
        }
      ]
    },
    {
      "cell_type": "markdown",
      "source": [
        "## Exercicio\n"
      ],
      "metadata": {
        "id": "OX_QLXRTksvA"
      }
    },
    {
      "cell_type": "code",
      "source": [
        "precos = dados_transposto[:,1:6]\n",
        "precos"
      ],
      "metadata": {
        "id": "v5k6FxcrnDS6",
        "outputId": "3ce0e2e6-9b91-4d01-cb46-99d187cb5fa8",
        "colab": {
          "base_uri": "https://localhost:8080/"
        }
      },
      "execution_count": 15,
      "outputs": [
        {
          "output_type": "execute_result",
          "data": {
            "text/plain": [
              "array([[ 79.72,  42.67,  62.55,  48.26,  71.25],\n",
              "       [ 81.08,  44.37,  62.73,  51.01,  71.35],\n",
              "       [ 79.68,  44.73,  63.43,  50.91,  70.9 ],\n",
              "       [ 79.8 ,  46.75,  63.83,  53.94,  71.92],\n",
              "       [ 80.63,    nan,  66.06,  61.27,  72.91],\n",
              "       [ 80.8 ,  51.59,  69.22,  65.44,  74.39],\n",
              "       [ 80.28,  57.8 ,  72.07,  56.51,  73.1 ],\n",
              "       [ 78.99,  62.14,  69.31,  53.  ,  70.24],\n",
              "       [ 76.77,  56.76,  65.18,  43.87,  69.12],\n",
              "       [ 76.09,  50.85,  62.13,  42.12,  68.98],\n",
              "       [ 76.36,  46.43,  64.17,  43.98,  68.58],\n",
              "       [ 77.16,  46.73,  65.5 ,  44.66,  69.5 ],\n",
              "       [ 77.5 ,  45.85,  66.85,  47.73,  70.14],\n",
              "       [ 79.03,  49.25,  68.38,  52.31,  70.58],\n",
              "       [ 80.28,  48.14,  68.77,  56.8 ,  70.78],\n",
              "       [ 80.05,  49.18,  69.32,  51.15,  72.78],\n",
              "       [ 78.11,  49.49,  69.77,  54.63,  72.84],\n",
              "       [ 76.9 ,  49.83,  70.17,  55.8 ,  74.74],\n",
              "       [ 77.68,  49.14,  70.76,  57.31,  76.43],\n",
              "       [ 76.05,  63.21,  75.16,  53.81,  81.2 ],\n",
              "       [ 75.53,  61.2 ,  74.86,  55.5 ,  82.04],\n",
              "       [ 73.39,  60.34,  71.47,  52.95,  79.67],\n",
              "       [ 78.36,  62.2 ,  76.08,  53.29,  81.25],\n",
              "       [ 89.16,  74.2 ,  82.11,  54.86,  85.88],\n",
              "       [105.43,  75.32,  94.63,  71.72,  91.35],\n",
              "       [104.82,  75.92,  98.54,  74.36, 101.32],\n",
              "       [101.15,  72.89,  97.84,  78.25, 102.45],\n",
              "       [ 98.63,  74.85,  94.54,  70.63,  98.18],\n",
              "       [ 99.96,  92.19,  97.88,  77.06, 105.1 ],\n",
              "       [ 97.29,  99.7 ,  97.73,  81.52, 104.85],\n",
              "       [ 98.64, 102.78, 100.89,  84.12, 111.48],\n",
              "       [104.26,  92.67, 104.88,  83.33, 118.51],\n",
              "       [102.63,  90.63, 104.39,  66.98, 118.92],\n",
              "       [ 98.64,  83.31, 101.9 ,  62.04, 109.87],\n",
              "       [ 97.17,  75.5 ,  98.99,  59.79, 105.22],\n",
              "       [ 98.09,  74.6 ,  99.42,  66.06, 105.45],\n",
              "       [103.07,  76.94, 106.37,  71.99, 115.61],\n",
              "       [110.26,  83.04, 113.89,  76.79, 116.61],\n",
              "       [110.84,  80.74, 114.78,  80.98, 120.39],\n",
              "       [112.28,  80.29, 115.6 ,  89.18, 119.2 ],\n",
              "       [111.1 ,  82.82, 115.89,  92.71, 119.92],\n",
              "       [110.06,  86.29, 117.66,  94.85, 120.57],\n",
              "       [113.7 ,  87.41, 118.27,  99.18, 123.37],\n",
              "       [112.88,  85.1 , 114.19,  86.33, 121.39],\n",
              "       [102.08,  78.08, 101.81,  71.94, 118.16],\n",
              "       [ 95.54,  76.06,  91.62,  67.18, 108.84],\n",
              "       [ 91.33,  69.23,  90.15,  62.98, 100.78],\n",
              "       [ 89.99,  69.04,  90.55,  69.45,  99.92],\n",
              "       [ 91.44,  64.48,  92.3 ,  67.56, 100.65],\n",
              "       [ 93.51,  65.73,  91.75,  67.92,  98.92],\n",
              "       [ 93.6 ,  67.2 ,  92.  ,  68.4 , 100.31],\n",
              "       [ 93.78,  70.25,  92.57,  67.97,  96.41],\n",
              "       [ 98.91,  82.59, 100.28,  76.33, 101.24],\n",
              "       [121.76,  92.12, 114.33,  95.79, 118.7 ],\n",
              "       [129.6 , 100.82, 122.17, 112.36, 133.29],\n",
              "       [127.9 ,  95.23, 117.83,  82.03, 130.31],\n",
              "       [114.55,  89.51, 112.49,  73.83, 122.4 ],\n",
              "       [101.88,  82.84,  93.7 ,  66.12, 104.98],\n",
              "       [ 99.09,  82.3 ,  97.17,  63.24, 107.54],\n",
              "       [103.35,  83.76,  95.64,  63.98, 110.74],\n",
              "       [106.58,  84.72, 102.21,  69.1 , 110.51],\n",
              "       [108.  ,  83.91, 107.58,  70.04, 111.46],\n",
              "       [114.95,  99.14, 110.48,  80.03, 113.42],\n",
              "       [121.17, 101.6 , 117.73,  87.92, 118.15],\n",
              "       [122.48, 113.03, 122.07,  97.07, 114.  ],\n",
              "       [127.58, 119.54, 128.58, 106.52, 124.91],\n",
              "       [131.89, 118.09, 131.12, 108.93, 126.06],\n",
              "       [129.36, 107.32, 127.08,  95.17, 123.3 ],\n",
              "       [104.26,  82.6 , 110.99,  74.31, 111.61],\n",
              "       [ 93.45,  77.4 ,  97.43,  62.63,  98.82],\n",
              "       [ 92.93,  71.77,  92.05,  69.92,  97.47],\n",
              "       [ 96.15,  71.25,  93.21,  70.58, 103.01],\n",
              "       [ 99.1 ,  71.35,  98.58,  74.63, 109.36],\n",
              "       [103.  ,  73.62, 100.23,  78.69, 104.79],\n",
              "       [103.31,  76.2 , 102.09,  81.82, 105.09],\n",
              "       [103.01,  74.15, 101.73,  82.36, 103.16],\n",
              "       [107.37,  75.67, 107.28,  89.44, 106.52],\n",
              "       [116.91,  79.2 , 115.35, 102.01, 121.68],\n",
              "       [125.29,  80.85, 123.03, 116.12, 125.32],\n",
              "       [123.94,  85.33, 123.08,  92.06, 123.41],\n",
              "       [113.03,  75.02, 109.71,  82.7 , 108.48],\n",
              "       [102.19,  77.95,  97.22,  66.62,  98.73],\n",
              "       [ 97.83,  78.98,  95.75,  68.11,  96.25],\n",
              "       [101.07,  76.55,  97.09,  73.48, 100.12],\n",
              "       [103.44,  74.89,  98.18,  82.04, 101.29],\n",
              "       [108.23,  70.  , 103.1 ,  81.19, 102.81],\n",
              "       [110.28,  81.53, 110.6 ,  95.05, 108.53]])"
            ]
          },
          "metadata": {},
          "execution_count": 15
        }
      ]
    },
    {
      "cell_type": "code",
      "source": [
        "import numpy as np\n",
        "url = 'https://raw.githubusercontent.com/allanspadini/numpy/dados/citrus.csv'\n",
        "dado = np.loadtxt(url, delimiter=',', usecols=np.arange(1,6,1),skiprows=1)\n",
        "diametro = dado[:,0]\n",
        "peso = dado[:,1]\n",
        "import matplotlib.pyplot as plt\n",
        "item = np.arange(1,5000,1)\n",
        "diametro_laranjas = diametro[0:4999]\n",
        "peso_laranjas = peso[0:4999]\n",
        "plt.plot(item,diametro_laranjas)\n",
        "plt.plot(item,peso_laranjas)\n",
        "diametro_toranjas = diametro[5000:9999]\n",
        "peso_toranjas = peso[5000:9999]\n",
        "plt.plot(item,diametro_toranjas)\n",
        "plt.plot(item,peso_toranjas)\n",
        "plt.legend(['diametro_laranjas', 'peso_laranjas', 'diametro_toranjas', 'peso_toranjas'])\n",
        "plt.show()\n",
        "\n"
      ],
      "metadata": {
        "id": "LKpKs78Jkzx9",
        "outputId": "defc713d-e3ec-45be-801b-c71329117f96",
        "colab": {
          "base_uri": "https://localhost:8080/",
          "height": 624
        }
      },
      "execution_count": 42,
      "outputs": [
        {
          "output_type": "error",
          "ename": "TypeError",
          "evalue": "'tuple' object is not callable",
          "traceback": [
            "\u001b[0;31m---------------------------------------------------------------------------\u001b[0m",
            "\u001b[0;31mTypeError\u001b[0m                                 Traceback (most recent call last)",
            "\u001b[0;32m<ipython-input-42-14ce5e3c716e>\u001b[0m in \u001b[0;36m<cell line: 16>\u001b[0;34m()\u001b[0m\n\u001b[1;32m     14\u001b[0m \u001b[0mplt\u001b[0m\u001b[0;34m.\u001b[0m\u001b[0mplot\u001b[0m\u001b[0;34m(\u001b[0m\u001b[0mitem\u001b[0m\u001b[0;34m,\u001b[0m\u001b[0mdiametro_toranjas\u001b[0m\u001b[0;34m)\u001b[0m\u001b[0;34m\u001b[0m\u001b[0;34m\u001b[0m\u001b[0m\n\u001b[1;32m     15\u001b[0m \u001b[0mplt\u001b[0m\u001b[0;34m.\u001b[0m\u001b[0mplot\u001b[0m\u001b[0;34m(\u001b[0m\u001b[0mitem\u001b[0m\u001b[0;34m,\u001b[0m\u001b[0mpeso_toranjas\u001b[0m\u001b[0;34m)\u001b[0m\u001b[0;34m\u001b[0m\u001b[0;34m\u001b[0m\u001b[0m\n\u001b[0;32m---> 16\u001b[0;31m \u001b[0mplt\u001b[0m\u001b[0;34m.\u001b[0m\u001b[0mlegend\u001b[0m\u001b[0;34m(\u001b[0m\u001b[0;34m[\u001b[0m\u001b[0;34m'diametro_laranjas'\u001b[0m\u001b[0;34m,\u001b[0m \u001b[0;34m'peso_laranjas'\u001b[0m\u001b[0;34m,\u001b[0m \u001b[0;34m'diametro_toranjas'\u001b[0m\u001b[0;34m,\u001b[0m \u001b[0;34m'peso_toranjas'\u001b[0m\u001b[0;34m]\u001b[0m\u001b[0;34m)\u001b[0m\u001b[0;34m\u001b[0m\u001b[0;34m\u001b[0m\u001b[0m\n\u001b[0m\u001b[1;32m     17\u001b[0m \u001b[0mplt\u001b[0m\u001b[0;34m.\u001b[0m\u001b[0mshow\u001b[0m\u001b[0;34m(\u001b[0m\u001b[0;34m)\u001b[0m\u001b[0;34m\u001b[0m\u001b[0;34m\u001b[0m\u001b[0m\n\u001b[1;32m     18\u001b[0m \u001b[0;34m\u001b[0m\u001b[0m\n",
            "\u001b[0;31mTypeError\u001b[0m: 'tuple' object is not callable"
          ]
        },
        {
          "output_type": "display_data",
          "data": {
            "text/plain": [
              "<Figure size 640x480 with 1 Axes>"
            ],
            "image/png": "[encoded data removed]"
          },
          "metadata": {}
        }
      ]
    },
    {
      "cell_type": "markdown",
      "source": [
        "## Mathplotlib para Visualizar Dados"
      ],
      "metadata": {
        "id": "IkDyFZLFoGUb"
      }
    },
    {
      "cell_type": "code",
      "source": [
        "#sempre importar numpy as np\n",
        "import numpy as np\n",
        "#antes de carregar o arquivo como url, carregar no github na pasta Dados\n",
        "url = 'https://raw.githubusercontent.com/maarantesfazenda/python_datascience_alura/refs/heads/main/Dados/apples_ts.csv'\n",
        "dado = np.loadtxt(url, delimiter=',',usecols=np.arange(1,88,1))\n",
        "dados_transposto = dado.T\n",
        "datas = dados_transposto[:,0]\n",
        "precos = dados_transposto[:,1:6]\n",
        "import matplotlib.pyplot as plt\n",
        "datas = np.arange(1,88,1)\n",
        "plt.plot(datas,precos[:,0])\n",
        "plt.show()"
      ],
      "metadata": {
        "id": "ts7E7si7on9s",
        "outputId": "03d76f54-ce7a-489e-8f52-b3077f6079f7",
        "colab": {
          "base_uri": "https://localhost:8080/",
          "height": 430
        }
      },
      "execution_count": 24,
      "outputs": [
        {
          "output_type": "display_data",
          "data": {
            "text/plain": [
              "<Figure size 640x480 with 1 Axes>"
            ],
            "image/png": "[encoded data removed]"
          },
          "metadata": {}
        }
      ]
    },
    {
      "cell_type": "code",
      "source": [
        "Moscow = precos[:,0]\n",
        "Kaliningrad = precos[:,1]\n",
        "Petersburg = precos[:,2]\n",
        "Krasnodar = precos[:,3]\n",
        "Ekateringburg = precos[:,4]"
      ],
      "metadata": {
        "id": "RTFqhL_xpvLn"
      },
      "execution_count": 5,
      "outputs": []
    },
    {
      "cell_type": "code",
      "source": [
        "Moscow_ano1 = Moscow[0:12]\n",
        "Moscow_ano2 = Moscow[12:24]\n",
        "Moscow_ano3 = Moscow[24:36]\n",
        "Moscow_ano4 = Moscow[36:48]\n",
        "plt.plot(np.arange(1,13,1),Moscow_ano1)\n",
        "plt.plot(np.arange(1,13,1),Moscow_ano2)\n",
        "plt.plot(np.arange(1,13,1),Moscow_ano3)\n",
        "plt.plot(np.arange(1,13,1),Moscow_ano4)\n",
        "plt.legend(['ano1','ano2','ano3','ano4'])\n",
        "plt.show()\n"
      ],
      "metadata": {
        "id": "bCU-Y9Y6t3JY",
        "outputId": "7f69edaa-9acf-4bac-c572-27e7b5ac6537",
        "colab": {
          "base_uri": "https://localhost:8080/",
          "height": 430
        }
      },
      "execution_count": 6,
      "outputs": [
        {
          "output_type": "display_data",
          "data": {
            "text/plain": [
              "<Figure size 640x480 with 1 Axes>"
            ],
            "image/png": "[encoded data removed]"
          },
          "metadata": {}
        }
      ]
    },
    {
      "cell_type": "code",
      "source": [
        "np.array_equal(Moscow_ano3,Moscow_ano4)"
      ],
      "metadata": {
        "id": "QjZAhFh7wKvq",
        "outputId": "b46776b1-ebc6-4a04-c602-cd4fbd94518c",
        "colab": {
          "base_uri": "https://localhost:8080/"
        }
      },
      "execution_count": 7,
      "outputs": [
        {
          "output_type": "execute_result",
          "data": {
            "text/plain": [
              "False"
            ]
          },
          "metadata": {},
          "execution_count": 7
        }
      ]
    },
    {
      "cell_type": "code",
      "source": [
        "np.allclose(Moscow_ano3,Moscow_ano4,10)"
      ],
      "metadata": {
        "id": "KNXP-A1LxCXg",
        "outputId": "06a322f2-f34b-48d2-e47e-bf1ea7890250",
        "colab": {
          "base_uri": "https://localhost:8080/"
        }
      },
      "execution_count": 8,
      "outputs": [
        {
          "output_type": "execute_result",
          "data": {
            "text/plain": [
              "True"
            ]
          },
          "metadata": {},
          "execution_count": 8
        }
      ]
    },
    {
      "cell_type": "code",
      "source": [
        "datas"
      ],
      "metadata": {
        "id": "aMePEYvuxpka",
        "outputId": "fee46204-9eb7-4a3e-bad1-d70b22bdf59b",
        "colab": {
          "base_uri": "https://localhost:8080/"
        }
      },
      "execution_count": 9,
      "outputs": [
        {
          "output_type": "execute_result",
          "data": {
            "text/plain": [
              "array([ 1,  2,  3,  4,  5,  6,  7,  8,  9, 10, 11, 12, 13, 14, 15, 16, 17,\n",
              "       18, 19, 20, 21, 22, 23, 24, 25, 26, 27, 28, 29, 30, 31, 32, 33, 34,\n",
              "       35, 36, 37, 38, 39, 40, 41, 42, 43, 44, 45, 46, 47, 48, 49, 50, 51,\n",
              "       52, 53, 54, 55, 56, 57, 58, 59, 60, 61, 62, 63, 64, 65, 66, 67, 68,\n",
              "       69, 70, 71, 72, 73, 74, 75, 76, 77, 78, 79, 80, 81, 82, 83, 84, 85,\n",
              "       86, 87])"
            ]
          },
          "metadata": {},
          "execution_count": 9
        }
      ]
    },
    {
      "cell_type": "code",
      "source": [
        "plt.plot(datas,Kaliningrad)"
      ],
      "metadata": {
        "id": "w2krbcv2pAHP",
        "outputId": "21e94fa8-a7cf-4766-907b-06f2971a2ff9",
        "colab": {
          "base_uri": "https://localhost:8080/",
          "height": 447
        }
      },
      "execution_count": 17,
      "outputs": [
        {
          "output_type": "execute_result",
          "data": {
            "text/plain": [
              "[<matplotlib.lines.Line2D at 0x77fc3d716050>]"
            ]
          },
          "metadata": {},
          "execution_count": 17
        },
        {
          "output_type": "display_data",
          "data": {
            "text/plain": [
              "<Figure size 640x480 with 1 Axes>"
            ],
            "image/png": "[encoded data removed]"
          },
          "metadata": {}
        }
      ]
    },
    {
      "cell_type": "code",
      "source": [
        "Kaliningrad\n"
      ],
      "metadata": {
        "id": "9UhRG65YpLTg",
        "outputId": "d542254d-35af-4c91-d3f8-de4caf57c356",
        "colab": {
          "base_uri": "https://localhost:8080/"
        }
      },
      "execution_count": 11,
      "outputs": [
        {
          "output_type": "execute_result",
          "data": {
            "text/plain": [
              "array([ 42.67,  44.37,  44.73,  46.75,    nan,  51.59,  57.8 ,  62.14,\n",
              "        56.76,  50.85,  46.43,  46.73,  45.85,  49.25,  48.14,  49.18,\n",
              "        49.49,  49.83,  49.14,  63.21,  61.2 ,  60.34,  62.2 ,  74.2 ,\n",
              "        75.32,  75.92,  72.89,  74.85,  92.19,  99.7 , 102.78,  92.67,\n",
              "        90.63,  83.31,  75.5 ,  74.6 ,  76.94,  83.04,  80.74,  80.29,\n",
              "        82.82,  86.29,  87.41,  85.1 ,  78.08,  76.06,  69.23,  69.04,\n",
              "        64.48,  65.73,  67.2 ,  70.25,  82.59,  92.12, 100.82,  95.23,\n",
              "        89.51,  82.84,  82.3 ,  83.76,  84.72,  83.91,  99.14, 101.6 ,\n",
              "       113.03, 119.54, 118.09, 107.32,  82.6 ,  77.4 ,  71.77,  71.25,\n",
              "        71.35,  73.62,  76.2 ,  74.15,  75.67,  79.2 ,  80.85,  85.33,\n",
              "        75.02,  77.95,  78.98,  76.55,  74.89,  70.  ,  81.53])"
            ]
          },
          "metadata": {},
          "execution_count": 11
        }
      ]
    },
    {
      "cell_type": "code",
      "source": [
        "sum(np.isnan(Kaliningrad))\n"
      ],
      "metadata": {
        "id": "JAAeksIupfWb",
        "outputId": "79bf9ee9-58c4-4560-df79-2626e876c9d3",
        "colab": {
          "base_uri": "https://localhost:8080/"
        }
      },
      "execution_count": 14,
      "outputs": [
        {
          "output_type": "execute_result",
          "data": {
            "text/plain": [
              "1"
            ]
          },
          "metadata": {},
          "execution_count": 14
        }
      ]
    },
    {
      "cell_type": "code",
      "source": [
        " Kaliningrad[4] = np.mean([Kaliningrad[3],Kaliningrad[5]])"
      ],
      "metadata": {
        "id": "YZswWDH4pwGI"
      },
      "execution_count": 16,
      "outputs": []
    },
    {
      "cell_type": "code",
      "source": [
        "np.mean(Moscow)"
      ],
      "metadata": {
        "id": "nEqU_CC3suT5",
        "outputId": "9aa48a74-c9de-4d9c-f57d-c4266be97aab",
        "colab": {
          "base_uri": "https://localhost:8080/"
        }
      },
      "execution_count": 18,
      "outputs": [
        {
          "output_type": "execute_result",
          "data": {
            "text/plain": [
              "98.79781609195402"
            ]
          },
          "metadata": {},
          "execution_count": 18
        }
      ]
    },
    {
      "cell_type": "code",
      "source": [
        "np.mean(Kaliningrad)"
      ],
      "metadata": {
        "id": "BKeds13pswwB",
        "outputId": "f12bacab-8e1e-4c56-9084-2924a55f1326",
        "colab": {
          "base_uri": "https://localhost:8080/"
        }
      },
      "execution_count": 19,
      "outputs": [
        {
          "output_type": "execute_result",
          "data": {
            "text/plain": [
              "74.5506896551724"
            ]
          },
          "metadata": {},
          "execution_count": 19
        }
      ]
    }
  ]
}